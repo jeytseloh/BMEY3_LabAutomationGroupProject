{
 "cells": [
  {
   "attachments": {},
   "cell_type": "markdown",
   "metadata": {},
   "source": [
    "From: https://colab.research.google.com/drive/1VCwcpd_zJ4zWbxBPIfHV6a0uWGcpthnm?usp=sharing\n",
    "\n",
    "IWBDA 2022 example - LabOP for Opentrons OT2 execution"
   ]
  },
  {
   "cell_type": "code",
   "execution_count": 23,
   "metadata": {},
   "outputs": [],
   "source": [
    "import opentrons.simulate as simulate\n",
    "from opentrons.protocols import bundle\n",
    "import io\n",
    "import sys\n",
    "\n",
    "import os\n",
    "import tempfile\n",
    "import sbol3\n",
    "import labop\n",
    "import tyto\n",
    "import uml\n",
    "import json\n",
    "import rdflib as rdfl\n",
    "from IPython.display import Markdown, IFrame\n",
    "from IPython.display import Image\n",
    "\n",
    "from labop.execution_engine import ExecutionEngine\n",
    "from labop_convert.markdown.markdown_specialization import MarkdownSpecialization\n",
    "from labop_convert.opentrons.opentrons_specialization import OT2Specialization\n",
    "from labop.utils.opentrons import run_ot2_sim, make_demo_script\n",
    "\n",
    "# Set up working directory for protocol files\n",
    "out_dir = os.path.join(os.path.abspath(\"\"), \"out\")\n",
    "if not os.path.exists(out_dir):\n",
    "    os.mkdir(out_dir)"
   ]
  },
  {
   "cell_type": "code",
   "execution_count": 24,
   "metadata": {},
   "outputs": [
    {
     "name": "stdout",
     "output_type": "stream",
     "text": [
      "Setting up document\n",
      "Importing libraries\n",
      "... Imported liquid handling\n",
      "... Imported plate handling\n",
      "... Imported spectrophotometry\n",
      "... Imported sample arrays\n"
     ]
    }
   ],
   "source": [
    "# set up the document\n",
    "print('Setting up document')\n",
    "doc = sbol3.Document()\n",
    "sbol3.set_namespace('https://bbn.com/scratch/') # what is a namespace\n",
    "\n",
    "# Import the primitive libraries\n",
    "print('Importing libraries')\n",
    "labop.import_library('liquid_handling')\n",
    "print('... Imported liquid handling')\n",
    "labop.import_library('plate_handling')\n",
    "print('... Imported plate handling')\n",
    "labop.import_library('spectrophotometry')\n",
    "print('... Imported spectrophotometry')\n",
    "labop.import_library('sample_arrays')\n",
    "print('... Imported sample arrays')\n",
    "\n",
    "protocol = labop.Protocol(\"OT2_demo\")\n",
    "protocol.name = \"OT2 demo\"\n",
    "doc.add(protocol)\n",
    "\n",
    "CONT_NS = rdfl.Namespace('https://sift.net/container-ontology/container-ontology#')\n",
    "OM_NS = rdfl.Namespace('http://www.ontology-of-units-of-measure.org/resource/om-2/')\n",
    "PREFIX_MAP = json.dumps({\"cont\": CONT_NS, \"om\": OM_NS})"
   ]
  },
  {
   "cell_type": "code",
   "execution_count": null,
   "metadata": {},
   "outputs": [],
   "source": [
    "# plate = protocol.load_labware('corning_96_wellplate_360ul_flat', location='1')\n",
    "plate_spec = labop.ContainerSpec('sample_plate', name='sample plate', \n",
    "                                 queryString='cont:Corning96WellPlate360uLFlat', \n",
    "                                 prefixMap=PREFIX_MAP)\n",
    "plate = protocol.primitive_step('EmptyContainer', specification=plate_spec)\n",
    "load_plate = protocol.primitive_step('LoadRackOnInstrument', rack=plate_spec, coordinates='1')\n",
    "\n",
    "# tiprack = protocol.load_labware('opentrons_96_tiprack_300ul', location='2')\n",
    "tiprack_spec = labop.ContainerSpec('tiprack', queryString='cont:Opentrons96TipRack300uL', prefixMap=PREFIX_MAP)\n",
    "tiprack = protocol.primitive_step('LoadRackOnInstrument', rack=tiprack_spec, coordinates='2')\n",
    "\n",
    "# left_pipette = protocol.load_instrument(\n",
    "#          'p300_single', mount='left', tip_racks=[tiprack])\n",
    "p300 = sbol3.Agent('p300_single', name='P300 Single')\n",
    "doc.add(p300)\n",
    "left_pipette = protocol.primitive_step('ConfigureRobot', instrument=p300, mount=\"left\")\n",
    "\n",
    "# left_pipette.pick_up_tip()\n",
    "# left_pipette.aspirate(100, plate['A1'])\n",
    "# left_pipette.dispense(100, plate['B2'])\n",
    "# left_pipette.drop_tip()\n",
    "source_well = protocol.primitive_step('PlateCoordinates', source=plate.output_pin('samples'), coordinates=\"A1\")\n",
    "dest_well = protocol.primitive_step('PlateCoordinates', source=plate.output_pin('samples'), coordinates=\"B2\")\n",
    "pip1 = protocol.primitive_step(\"Transfer\", \n",
    "                               source=source_well.output_pin('samples'), \n",
    "                               destination=dest_well.output_pin('samples'), \n",
    "                               amount=sbol3.Measure(100, tyto.OM.microliter)\n",
    "                               )\n",
    "protocol.to_dot().render(filename=os.path.join(out_dir, protocol.display_name), format=\"png\")\n",
    "\n",
    "\n",
    "\n",
    "Image(os.path.join(out_dir, protocol.display_name+\".png\"))"
   ]
  },
  {
   "cell_type": "code",
   "execution_count": 27,
   "metadata": {},
   "outputs": [
    {
     "ename": "ValueError",
     "evalue": "An entity with identity \"https://bbn.com/scratch/test_execution\" already exists in document",
     "output_type": "error",
     "traceback": [
      "\u001b[0;31m---------------------------------------------------------------------------\u001b[0m",
      "\u001b[0;31mValueError\u001b[0m                                Traceback (most recent call last)",
      "Cell \u001b[0;32mIn[27], line 6\u001b[0m\n\u001b[1;32m      4\u001b[0m ee \u001b[39m=\u001b[39m ExecutionEngine(specializations\u001b[39m=\u001b[39m[OT2Specialization(filename)])\n\u001b[1;32m      5\u001b[0m parameter_values \u001b[39m=\u001b[39m []\n\u001b[0;32m----> 6\u001b[0m execution \u001b[39m=\u001b[39m ee\u001b[39m.\u001b[39;49mexecute(protocol, agent, \u001b[39mid\u001b[39;49m\u001b[39m=\u001b[39;49m\u001b[39m\"\u001b[39;49m\u001b[39mtest_execution\u001b[39;49m\u001b[39m\"\u001b[39;49m)\n\u001b[1;32m      8\u001b[0m \u001b[39m# #v = doc.validate()\u001b[39;00m\n\u001b[1;32m      9\u001b[0m \u001b[39m# #assert len(v) == 0, \"\".join(f'\\n {e}' for e in v)\u001b[39;00m\n\u001b[1;32m     11\u001b[0m doc\u001b[39m.\u001b[39mwrite(os\u001b[39m.\u001b[39mpath\u001b[39m.\u001b[39mjoin(out_dir, \u001b[39m'\u001b[39m\u001b[39mot2_demo.ttl\u001b[39m\u001b[39m'\u001b[39m), file_format\u001b[39m=\u001b[39m\u001b[39m'\u001b[39m\u001b[39mttl\u001b[39m\u001b[39m'\u001b[39m)\n",
      "File \u001b[0;32m~/BMEY3_LabAutomationGroupProject/labOP_env/lib/python3.10/site-packages/labop/execution_engine.py:168\u001b[0m, in \u001b[0;36mExecutionEngine.execute\u001b[0;34m(self, protocol, agent, parameter_values, id, start_time)\u001b[0m\n\u001b[1;32m    146\u001b[0m \u001b[39mdef\u001b[39;00m \u001b[39mexecute\u001b[39m(\u001b[39mself\u001b[39m,\n\u001b[1;32m    147\u001b[0m             protocol: labop\u001b[39m.\u001b[39mProtocol,\n\u001b[1;32m    148\u001b[0m             agent: sbol3\u001b[39m.\u001b[39mAgent,\n\u001b[0;32m   (...)\u001b[0m\n\u001b[1;32m    151\u001b[0m             start_time: datetime\u001b[39m.\u001b[39mdatetime \u001b[39m=\u001b[39m \u001b[39mNone\u001b[39;00m\n\u001b[1;32m    152\u001b[0m             ) \u001b[39m-\u001b[39m\u001b[39m>\u001b[39m labop\u001b[39m.\u001b[39mProtocolExecution:\n\u001b[1;32m    153\u001b[0m \u001b[39m    \u001b[39m\u001b[39m\"\"\"Execute the given protocol against the provided parameters\u001b[39;00m\n\u001b[1;32m    154\u001b[0m \n\u001b[1;32m    155\u001b[0m \u001b[39m    Parameters\u001b[39;00m\n\u001b[0;32m   (...)\u001b[0m\n\u001b[1;32m    165\u001b[0m \u001b[39m    ProtocolExecution containing a record of the execution\u001b[39;00m\n\u001b[1;32m    166\u001b[0m \u001b[39m    \"\"\"\u001b[39;00m\n\u001b[0;32m--> 168\u001b[0m     \u001b[39mself\u001b[39;49m\u001b[39m.\u001b[39;49minitialize(protocol, agent, \u001b[39mid\u001b[39;49m, parameter_values)\n\u001b[1;32m    169\u001b[0m     \u001b[39mself\u001b[39m\u001b[39m.\u001b[39mrun(protocol, start_time\u001b[39m=\u001b[39mstart_time)\n\u001b[1;32m    170\u001b[0m     \u001b[39mself\u001b[39m\u001b[39m.\u001b[39mfinalize(protocol)\n",
      "File \u001b[0;32m~/BMEY3_LabAutomationGroupProject/labOP_env/lib/python3.10/site-packages/labop/execution_engine.py:119\u001b[0m, in \u001b[0;36mExecutionEngine.initialize\u001b[0;34m(self, protocol, agent, id, parameter_values)\u001b[0m\n\u001b[1;32m    117\u001b[0m \u001b[39m# First, set up the record for the protocol and parameter values\u001b[39;00m\n\u001b[1;32m    118\u001b[0m \u001b[39mself\u001b[39m\u001b[39m.\u001b[39mex \u001b[39m=\u001b[39m labop\u001b[39m.\u001b[39mProtocolExecution(\u001b[39mid\u001b[39m, protocol\u001b[39m=\u001b[39mprotocol)\n\u001b[0;32m--> 119\u001b[0m doc\u001b[39m.\u001b[39;49madd(\u001b[39mself\u001b[39;49m\u001b[39m.\u001b[39;49mex)\n\u001b[1;32m    121\u001b[0m \u001b[39mself\u001b[39m\u001b[39m.\u001b[39mex\u001b[39m.\u001b[39massociation\u001b[39m.\u001b[39mappend(sbol3\u001b[39m.\u001b[39mAssociation(agent\u001b[39m=\u001b[39magent, plan\u001b[39m=\u001b[39mprotocol))\n\u001b[1;32m    122\u001b[0m \u001b[39mself\u001b[39m\u001b[39m.\u001b[39mex\u001b[39m.\u001b[39mparameter_values \u001b[39m=\u001b[39m parameter_values\n",
      "File \u001b[0;32m~/BMEY3_LabAutomationGroupProject/labOP_env/lib/python3.10/site-packages/sbol3/document.py:389\u001b[0m, in \u001b[0;36mDocument.add\u001b[0;34m(self, objects)\u001b[0m\n\u001b[1;32m    387\u001b[0m \u001b[39m# Now dispatch to the appropriate method\u001b[39;00m\n\u001b[1;32m    388\u001b[0m \u001b[39mif\u001b[39;00m \u001b[39misinstance\u001b[39m(objects, TopLevel):\n\u001b[0;32m--> 389\u001b[0m     \u001b[39mreturn\u001b[39;00m \u001b[39mself\u001b[39;49m\u001b[39m.\u001b[39;49m_add(objects)\n\u001b[1;32m    390\u001b[0m \u001b[39melse\u001b[39;00m:\n\u001b[1;32m    391\u001b[0m     \u001b[39mreturn\u001b[39;00m \u001b[39mself\u001b[39m\u001b[39m.\u001b[39m_add_all(objects)\n",
      "File \u001b[0;32m~/BMEY3_LabAutomationGroupProject/labOP_env/lib/python3.10/site-packages/sbol3/document.py:346\u001b[0m, in \u001b[0;36mDocument._add\u001b[0;34m(self, obj)\u001b[0m\n\u001b[1;32m    344\u001b[0m     message \u001b[39m=\u001b[39m \u001b[39mf\u001b[39m\u001b[39m'\u001b[39m\u001b[39mAn entity with identity \u001b[39m\u001b[39m\"\u001b[39m\u001b[39m{\u001b[39;00mobj\u001b[39m.\u001b[39midentity\u001b[39m}\u001b[39;00m\u001b[39m\"\u001b[39m\u001b[39m'\u001b[39m\n\u001b[1;32m    345\u001b[0m     message \u001b[39m+\u001b[39m\u001b[39m=\u001b[39m \u001b[39m'\u001b[39m\u001b[39m already exists in document\u001b[39m\u001b[39m'\u001b[39m\n\u001b[0;32m--> 346\u001b[0m     \u001b[39mraise\u001b[39;00m \u001b[39mValueError\u001b[39;00m(message)\n\u001b[1;32m    347\u001b[0m \u001b[39mself\u001b[39m\u001b[39m.\u001b[39mobjects\u001b[39m.\u001b[39mappend(obj)\n\u001b[1;32m    349\u001b[0m \u001b[39m# Assign this document to the object tree rooted\u001b[39;00m\n\u001b[1;32m    350\u001b[0m \u001b[39m# in the TopLevel being added\u001b[39;00m\n",
      "\u001b[0;31mValueError\u001b[0m: An entity with identity \"https://bbn.com/scratch/test_execution\" already exists in document"
     ]
    }
   ],
   "source": [
    "filename=os.path.join(out_dir, \"ot2_demo_labop\")\n",
    "automated_script = filename+\".py\"\n",
    "agent = sbol3.Agent(\"ot2_machine\", name='OT2 machine')\n",
    "ee = ExecutionEngine(specializations=[OT2Specialization(filename)])\n",
    "parameter_values = []\n",
    "execution = ee.execute(protocol, agent, id=\"test_execution\")\n",
    "\n",
    "# #v = doc.validate()\n",
    "# #assert len(v) == 0, \"\".join(f'\\n {e}' for e in v)\n",
    "\n",
    "doc.write(os.path.join(out_dir, 'ot2_demo.ttl'), file_format='ttl')"
   ]
  },
  {
   "cell_type": "code",
   "execution_count": 16,
   "metadata": {},
   "outputs": [
    {
     "ename": "FileNotFoundError",
     "evalue": "[Errno 2] No such file or directory: '/Users/jeytse/BMEY3_LabAutomationGroupProject/LabOP_dev/out/ot2_demo_labop.py'",
     "output_type": "error",
     "traceback": [
      "\u001b[0;31m---------------------------------------------------------------------------\u001b[0m",
      "\u001b[0;31mFileNotFoundError\u001b[0m                         Traceback (most recent call last)",
      "Cell \u001b[0;32mIn[16], line 1\u001b[0m\n\u001b[0;32m----> 1\u001b[0m \u001b[39mwith\u001b[39;00m \u001b[39mopen\u001b[39;49m(automated_script, \u001b[39m\"\u001b[39;49m\u001b[39mr\u001b[39;49m\u001b[39m\"\u001b[39;49m) \u001b[39mas\u001b[39;00m f:\n\u001b[1;32m      2\u001b[0m     script \u001b[39m=\u001b[39m f\u001b[39m.\u001b[39mread()\n\u001b[1;32m      3\u001b[0m     \u001b[39mprint\u001b[39m(\u001b[39mf\u001b[39m\u001b[39m\"\u001b[39m\u001b[39mOpentrons script: \u001b[39m\u001b[39m{\u001b[39;00mscript\u001b[39m}\u001b[39;00m\u001b[39m\"\u001b[39m)\n",
      "File \u001b[0;32m~/BMEY3_LabAutomationGroupProject/labOP_env/lib/python3.10/site-packages/IPython/core/interactiveshell.py:282\u001b[0m, in \u001b[0;36m_modified_open\u001b[0;34m(file, *args, **kwargs)\u001b[0m\n\u001b[1;32m    275\u001b[0m \u001b[39mif\u001b[39;00m file \u001b[39min\u001b[39;00m {\u001b[39m0\u001b[39m, \u001b[39m1\u001b[39m, \u001b[39m2\u001b[39m}:\n\u001b[1;32m    276\u001b[0m     \u001b[39mraise\u001b[39;00m \u001b[39mValueError\u001b[39;00m(\n\u001b[1;32m    277\u001b[0m         \u001b[39mf\u001b[39m\u001b[39m\"\u001b[39m\u001b[39mIPython won\u001b[39m\u001b[39m'\u001b[39m\u001b[39mt let you open fd=\u001b[39m\u001b[39m{\u001b[39;00mfile\u001b[39m}\u001b[39;00m\u001b[39m by default \u001b[39m\u001b[39m\"\u001b[39m\n\u001b[1;32m    278\u001b[0m         \u001b[39m\"\u001b[39m\u001b[39mas it is likely to crash IPython. If you know what you are doing, \u001b[39m\u001b[39m\"\u001b[39m\n\u001b[1;32m    279\u001b[0m         \u001b[39m\"\u001b[39m\u001b[39myou can use builtins\u001b[39m\u001b[39m'\u001b[39m\u001b[39m open.\u001b[39m\u001b[39m\"\u001b[39m\n\u001b[1;32m    280\u001b[0m     )\n\u001b[0;32m--> 282\u001b[0m \u001b[39mreturn\u001b[39;00m io_open(file, \u001b[39m*\u001b[39;49margs, \u001b[39m*\u001b[39;49m\u001b[39m*\u001b[39;49mkwargs)\n",
      "\u001b[0;31mFileNotFoundError\u001b[0m: [Errno 2] No such file or directory: '/Users/jeytse/BMEY3_LabAutomationGroupProject/LabOP_dev/out/ot2_demo_labop.py'"
     ]
    }
   ],
   "source": [
    "with open(automated_script, \"r\") as f:\n",
    "    script = f.read()\n",
    "    print(f\"Opentrons script: {script}\")\n",
    "print(\"*\"*80)\n",
    "automated_runlog = run_ot2_sim(automated_script)\n",
    "print(\"*\"*80)\n",
    "automated_runlog"
   ]
  },
  {
   "cell_type": "code",
   "execution_count": null,
   "metadata": {},
   "outputs": [],
   "source": [
    "manual_script = os.path.join(out_dir, \"manual_script.py\")\n",
    "make_demo_script(manual_script)\n",
    "\n",
    "print(\"*\"*80)\n",
    "with open(manual_script, \"r\") as f:\n",
    "    script = f.read()\n",
    "    print(f\"Opentrons script:\\n{script}\")\n",
    "print(\"*\"*80)\n",
    "manual_runlog = run_ot2_sim(manual_script)\n",
    "manual_runlog"
   ]
  },
  {
   "cell_type": "code",
   "execution_count": null,
   "metadata": {},
   "outputs": [],
   "source": [
    "import jsondiff\n",
    "import json\n",
    "diff = jsondiff.diff(automated_runlog[1:], manual_runlog)\n",
    "diff"
   ]
  }
 ],
 "metadata": {
  "kernelspec": {
   "display_name": "labOP_env",
   "language": "python",
   "name": "python3"
  },
  "language_info": {
   "codemirror_mode": {
    "name": "ipython",
    "version": 3
   },
   "file_extension": ".py",
   "mimetype": "text/x-python",
   "name": "python",
   "nbconvert_exporter": "python",
   "pygments_lexer": "ipython3",
   "version": "3.10.0"
  },
  "orig_nbformat": 4,
  "vscode": {
   "interpreter": {
    "hash": "7f7172b19abcdd4ad2180ded8ce592d94944104b9debf83e6c1037aff62c6a1e"
   }
  }
 },
 "nbformat": 4,
 "nbformat_minor": 2
}
