{
 "cells": [
  {
   "attachments": {},
   "cell_type": "markdown",
   "metadata": {},
   "source": [
    "The Gibson Assembly® Protocol below is obtained from the New England Biolabs (NEB).\n",
    "DOI: https://dx.doi.org/10.17504/protocols.io.bdddi226\n",
    "\n",
    "v2.2 corresponds to the version of the process mapping document which can be found here:\n",
    "https://imperiallondon.sharepoint.com/:w:/s/3rdYearGroupProject-Group1-BM/EUCI6zyDKR5Mu8h0xdkCKxsBZIlt9H7fuby1bR6irCJORQ?e=fNtstf"
   ]
  },
  {
   "cell_type": "code",
   "execution_count": 1,
   "metadata": {},
   "outputs": [],
   "source": [
    "%reset"
   ]
  },
  {
   "cell_type": "code",
   "execution_count": 2,
   "metadata": {},
   "outputs": [
    {
     "name": "stderr",
     "output_type": "stream",
     "text": [
      "/Users/jeytse/BMEY3_LabAutomationGroupProject/labOP_env/lib/python3.10/site-packages/sbol3/object.py:70: UserWarning: Using a default namespace. To set a namespace use set_namespace()\n",
      "  warnings.warn('Using a default namespace.'\n"
     ]
    }
   ],
   "source": [
    "from logging import Logger\n",
    "import os\n",
    "import logging\n",
    "import sbol3\n",
    "import labop\n",
    "import tyto\n",
    "import uml\n",
    "import json\n",
    "import rdflib as rdfl\n",
    "from typing import Dict, Tuple\n",
    "from sbol3 import Document\n",
    "\n",
    "from labop.execution_engine import ExecutionEngine\n",
    "from labop_convert.opentrons.opentrons_specialization import OT2Specialization\n",
    "from labop_convert.markdown.markdown_specialization import MarkdownSpecialization\n",
    "\n",
    "from IPython.display import Image\n",
    "\n",
    "%load_ext autoreload\n",
    "%autoreload 2"
   ]
  },
  {
   "cell_type": "code",
   "execution_count": 6,
   "metadata": {},
   "outputs": [
    {
     "name": "stdout",
     "output_type": "stream",
     "text": [
      "Setting up document\n"
     ]
    }
   ],
   "source": [
    "# set up the document\n",
    "print('Setting up document')\n",
    "doc = sbol3.Document()\n",
    "sbol3.set_namespace('https://bbn.com/scratch/')"
   ]
  },
  {
   "cell_type": "code",
   "execution_count": 7,
   "metadata": {},
   "outputs": [
    {
     "name": "stdout",
     "output_type": "stream",
     "text": [
      "Importing libraries\n",
      "... Imported liquid handling\n",
      "... Imported plate handling\n",
      "... Imported sample arrays\n"
     ]
    }
   ],
   "source": [
    "# Import the primitive libraries\n",
    "print('Importing libraries')\n",
    "labop.import_library('liquid_handling')\n",
    "print('... Imported liquid handling')\n",
    "labop.import_library('plate_handling')\n",
    "print('... Imported plate handling')\n",
    "labop.import_library('spectrophotometry')\n",
    "print('... Imported spectrophotometry')\n",
    "labop.import_library('sample_arrays')\n",
    "print('... Imported sample arrays')\n",
    "labop.import_library('pcr')\n",
    "print('... Imported pcr')"
   ]
  },
  {
   "cell_type": "code",
   "execution_count": 8,
   "metadata": {},
   "outputs": [],
   "source": [
    "protocol = labop.Protocol('gibson_assembly_v2_0')\n",
    "protocol.name = \"LabOP Opentrons Gibson Assembly Protocol\"\n",
    "doc.add(protocol)\n",
    "\n",
    "# create the materials to be provisioned\n",
    "CONT_NS = rdfl.Namespace('https://sift.net/container-ontology/container-ontology#')\n",
    "OM_NS = rdfl.Namespace('http://www.ontology-of-units-of-measure.org/resource/om-2/')\n",
    "\n",
    "PREFIX_MAP = json.dumps({\"cont\": CONT_NS, \"om\": OM_NS})"
   ]
  },
  {
   "cell_type": "code",
   "execution_count": null,
   "metadata": {},
   "outputs": [],
   "source": [
    "# Define reagents\n",
    "# do we need to define all our reagents? if yes, how do we know which URI for our reagents?\n",
    "dh2o = sbol3.Component('dH2O', 'https://pubchem.ncbi.nlm.nih.gov/substance/24901740')\n",
    "dh2o.name = 'Water, sterile-filtered, BioReagent, suitable for cell culture'\n",
    "doc.add(dh2o)\n",
    "\n",
    "master_mix = sbol3.Component('master_mix', 'https://pubchem.ncbi.nlm.nih.gov/substance/24901740') # arbitary URI\n",
    "master_mix.name = 'Gibson Assembly Master Mix'\n",
    "doc.add(master_mix)\n",
    "\n",
    "dna_frag1 = sbol3.Component('dna_frag1', 'https://pubchem.ncbi.nlm.nih.gov/substance/24901740') # arbitary URI\n",
    "dna_frag1.name = 'DNA Fragment 1'\n",
    "doc.add(dna_frag1)\n",
    "\n",
    "dna_frag2 = sbol3.Component('dna_frag2', 'https://pubchem.ncbi.nlm.nih.gov/substance/24901740') # arbitary URI\n",
    "dna_frag2.name = 'DNA Fragment 2'\n",
    "doc.add(dna_frag2)"
   ]
  },
  {
   "cell_type": "code",
   "execution_count": null,
   "metadata": {},
   "outputs": [],
   "source": [
    "# Define labware\n",
    "spec_tiprack = labop.ContainerSpec('tiprack',\n",
    "                                   queryString='cont:Opentrons96TipRack10uL', # didn't have 20uL tiprack\n",
    "                                   prefixMap=PREFIX_MAP)\n",
    "tiprack = protocol.primitive_step('EmptyContainer',\n",
    "                                  specification=spec_tiprack)\n",
    "spec_reagent_plate = labop.ContainerSpec('reagent_plate',\n",
    "                                    name='Well plate for reagents',\n",
    "                                    queryString='cont:NEST96WellPlate', # same as NEST 96 deep well plate?\n",
    "                                    prefixMap=PREFIX_MAP)\n",
    "reagent_plate = protocol.primitive_step('EmptyContainer',\n",
    "                                        specification=spec_reagent_plate)\n",
    "spec_destination_plate = labop.ContainerSpec('destination_plate',\n",
    "                                        name='Destination plate',\n",
    "                                        queryString='cont:BioRad96WellPCRPlate', # didn't have NEST 96 PCR\n",
    "                                        prefixMap=PREFIX_MAP)\n",
    "destination_plate = protocol.primitive_step('EmptyContainer',\n",
    "                                            specification=spec_destination_plate)\n",
    "p20 = sbol3.Agent('p20_single_gen2',\n",
    "                  name='P20 Single GEN2')\n",
    "# getting the error that 'https://bbn.com/scratch/tiprack...' already exists in namespace?\n",
    "# doc.add(spec_tiprack)\n",
    "# doc.add(spec_reagent_plate)\n",
    "# doc.add(spec_destination_plate)\n",
    "# doc.add(p20)"
   ]
  },
  {
   "cell_type": "code",
   "execution_count": null,
   "metadata": {},
   "outputs": [],
   "source": [
    "# Load OT2 robot with labware\n",
    "# getting a ValueError: Could not find pin named None for the ConfigureRobot primitives\n",
    "left_pipette = protocol.primitive_step('ConfigureRobot', \n",
    "                                       instrument=OT2Specialization.EQUIPMENT['p20_single_gen2'],\n",
    "                                       mount='left')\n",
    "thermocycler = protocol.primitive_step('ConfigureRobot',\n",
    "                                       instrument=OT2Specialization.EQUIPMENT['thermocycler'],\n",
    "                                       mount='7')\n",
    "tiprack = protocol.primitive_step('LoadRackOnInstrument',\n",
    "                                  rack=spec_tiprack,\n",
    "                                  coordinates='1')\n",
    "load_reagent_plate = protocol.primitive_step('LoadRackOnInstrument',\n",
    "                                             rack=spec_reagent_plate,\n",
    "                                             coordinates='4')\n",
    "load_destination_plate = protocol.primitive_step('LoadContainerOnInstrument',\n",
    "                                                 specification=spec_destination_plate,\n",
    "                                                 instrument=OT2Specialization.EQUIPMENT['thermocycler'],\n",
    "                                                 slots='A1:H12') # 96 wells"
   ]
  },
  {
   "cell_type": "code",
   "execution_count": null,
   "metadata": {},
   "outputs": [],
   "source": [
    "# Set up target samples\n",
    "assembly_reaction = protocol.primitive_step('PlateCoordinates',\n",
    "                                            source=load_destination_plate.output_pin('samples'),\n",
    "                                            coordinates='A1:H1')\n",
    "negative_control = protocol.primitive_step('PlateCoordinates',\n",
    "                                           source=load_destination_plate.output_pin('samples'),\n",
    "                                           coordinates='A2:H2')"
   ]
  },
  {
   "cell_type": "code",
   "execution_count": null,
   "metadata": {},
   "outputs": [],
   "source": [
    "# Set up reagents - assuming reagents are loaded onto reagent plate manually\n",
    "master_mix_well = protocol.primitive_step('PlateCoordinates',\n",
    "                                          source=reagent_plate.output_pin('samples'),\n",
    "                                          coordinates='A1')\n",
    "dh2o_well = protocol.primitive_step('PlateCoordinates',\n",
    "                                    source=reagent_plate.output_pin('samples'),\n",
    "                                    coordinates='A2')\n",
    "dna_frag1_well = protocol.primitive_step('PlateCoordinates',\n",
    "                                         source=reagent_plate.output_pin('samples'),\n",
    "                                         coordinates='A3')\n",
    "dna_frag2_well = protocol.primitive_step('PlateCoordinates',\n",
    "                                         source=reagent_plate.output_pin('samples'),\n",
    "                                         coordinates='A4')"
   ]
  },
  {
   "cell_type": "code",
   "execution_count": null,
   "metadata": {},
   "outputs": [],
   "source": [
    "# Protocol\n",
    "# does the 'Transfer' primitive step automatically change tip?\n",
    "\n",
    "hold = protocol.primitive_step('Hold',\n",
    "                               location=thermocycler,\n",
    "                               temperature=sbol3.Measure(4.0,tyto.OM.degree_Celsius))\n",
    "hold.name = '1. Set thermocycler to hold at 4 degrees Celsius while setting up assembly reaction and negative control'\n",
    "\n",
    "transfer = protocol.primitive_step('Transfer',\n",
    "                                   source=dh2o_well.output_pin('samples'),\n",
    "                                   destination=assembly_reaction.output_pin('samples'),\n",
    "                                   amount=sbol3.Measure(16,tyto.OM.microliter))\n",
    "transfer.name = '2. Add deionized H2O for assembly reaction'\n",
    "\n",
    "transfer = protocol.primitive_step('Transfer',\n",
    "                                   source=dh2o_well.output_pin('samples'),\n",
    "                                   destination=negative_control.output_pin('samples'),\n",
    "                                   amount=sbol3.Measure(16,tyto.OM.microliter))\n",
    "transfer.name = '3. Add deionized H2O for negative control'\n",
    "\n",
    "transfer = protocol.primitive_step('Transfer',\n",
    "                                   source=master_mix_well.output_pin('samples'),\n",
    "                                   destination=assembly_reaction.output_pin('samples'),\n",
    "                                   amount=sbol3.Measure(20,tyto.OM.microliter))\n",
    "transfer.name = '4. Add Gibson Assembly Master Mix for assembly reaction'\n",
    "\n",
    "transfer = protocol.primitive_step('Transfer',\n",
    "                                   source=dh2o_well.output_pin('samples'),\n",
    "                                   destination=negative_control.output_pin('samples'),\n",
    "                                   amount=sbol3.Measure(20,tyto.OM.microliter))\n",
    "transfer.name = '5. Add deionized H2O instead of Gibson Assembly Master Mix for negative control'\n",
    "\n",
    "transfer = protocol.primitive_step('Transfer',\n",
    "                                   source=dna_frag1_well.output_pin('samples'),\n",
    "                                   destination=assembly_reaction.output_pin('samples'),\n",
    "                                   amount=sbol3.Measure(2,tyto.OM.microliter))\n",
    "transfer.name = '6. Add DNA fragment 1 for assembly reaction'\n",
    "\n",
    "transfer = protocol.primitive_step('Transfer',\n",
    "                                   source=dna_frag1_well.output_pin('samples'),\n",
    "                                   destination=negative_control.output_pin('samples'),\n",
    "                                   amount=sbol3.Measure(2,tyto.OM.microliter))\n",
    "transfer.name = '7. Add DNA fragment 1 for negative control'\n",
    "\n",
    "transfer = protocol.primitive_step('Transfer',\n",
    "                                   source=dna_frag2_well.output_pin('samples'),\n",
    "                                   destination=assembly_reaction.output_pin('samples'),\n",
    "                                   amount=sbol3.Measure(2,tyto.OM.microliter))\n",
    "transfer.name = '8. Add DNA fragment 2 for assembly reaction'\n",
    "\n",
    "transfer = protocol.primitive_step('Transfer',\n",
    "                                   source=dna_frag2_well.output_pin('samples'),\n",
    "                                   destination=negative_control.output_pin('samples'),\n",
    "                                   amount=sbol3.Measure(2,tyto.OM.microliter))\n",
    "transfer.name = '9. Add DNA fragment 2 for negative control'\n",
    "\n",
    "mix = protocol.primitive_step('PipetteMix',\n",
    "                              samples=assembly_reaction.output_pin('samples'),\n",
    "                              amount=sbol3.Measure(20,tyto.OM.microliter),\n",
    "                              cycleCount=5)\n",
    "mix.name = 'Mix 5 times'\n",
    "\n",
    "incubate = protocol.primitive_step('Incubate',\n",
    "                                   location=thermocycler,\n",
    "                                   duration=sbol3.Measure(15,tyto.OM.minute),\n",
    "                                   temperature=sbol3.Measure(50,tyto.OM.degree_Celsius))\n",
    "incubate.name = 'Incubate at 50 degrees Celsius for 15 minutes'"
   ]
  },
  {
   "cell_type": "code",
   "execution_count": null,
   "metadata": {},
   "outputs": [],
   "source": [
    "filename = 'ot2_gibson_assembly_labop'\n",
    "agent = sbol3.Agent('ot2_machine', name='OT2 Machine')\n",
    "ee = ExecutionEngine(specializations=[OT2Specialization(filename)])\n",
    "parameter_values = []\n",
    "execution = ee.execute(protocol, agent, id='test_execution')"
   ]
  },
  {
   "cell_type": "code",
   "execution_count": null,
   "metadata": {},
   "outputs": [],
   "source": [
    "# out_dir = os.path.join(os.path.abspath(\"\"), \"out\")\n",
    "# if not os.path.exists(out_dir):\n",
    "#     os.mkdir(out_dir)\n",
    "\n",
    "# protocol.to_dot().render(filename=os.path.join(out_dir, protocol.display_name), format=\"png\")\n",
    "# Image(os.path.join(out_dir, protocol.display_name+\".png\"))"
   ]
  }
 ],
 "metadata": {
  "kernelspec": {
   "display_name": "labOP_env",
   "language": "python",
   "name": "python3"
  },
  "language_info": {
   "codemirror_mode": {
    "name": "ipython",
    "version": 3
   },
   "file_extension": ".py",
   "mimetype": "text/x-python",
   "name": "python",
   "nbconvert_exporter": "python",
   "pygments_lexer": "ipython3",
   "version": "3.10.0"
  },
  "orig_nbformat": 4,
  "vscode": {
   "interpreter": {
    "hash": "7f7172b19abcdd4ad2180ded8ce592d94944104b9debf83e6c1037aff62c6a1e"
   }
  }
 },
 "nbformat": 4,
 "nbformat_minor": 2
}
