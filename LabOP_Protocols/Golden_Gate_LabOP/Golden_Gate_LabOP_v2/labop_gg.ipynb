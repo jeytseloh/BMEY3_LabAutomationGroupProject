{
 "cells": [
  {
   "attachments": {},
   "cell_type": "markdown",
   "metadata": {},
   "source": [
    "The 52-Fragment Golden Gate Assembly using BsaI-HF®v2 is obtained from the New England Biolabs (NEB).\n",
    "https://international.neb.com/protocols/2018/10/02/golden-gate-assembly-protocol-for-using-neb-golden-gate-assembly-mix-e1601\n"
   ]
  },
  {
   "cell_type": "code",
   "execution_count": 1,
   "metadata": {},
   "outputs": [
    {
     "name": "stderr",
     "output_type": "stream",
     "text": [
      "/Users/jeytse/BMEY3_LabAutomationGroupProject/labOP_env/lib/python3.10/site-packages/sbol3/object.py:70: UserWarning: Using a default namespace. To set a namespace use set_namespace()\n",
      "  warnings.warn('Using a default namespace.'\n"
     ]
    }
   ],
   "source": [
    "from logging import Logger\n",
    "import os\n",
    "import logging\n",
    "import sbol3\n",
    "import labop\n",
    "import tyto\n",
    "import uml\n",
    "import json\n",
    "import rdflib as rdfl\n",
    "from typing import Dict, Tuple\n",
    "from sbol3 import Document\n",
    "\n",
    "from labop.execution_engine import ExecutionEngine\n",
    "from labop_convert.markdown.markdown_specialization import MarkdownSpecialization\n",
    "from labop_convert.opentrons.opentrons_specialization import REVERSE_LABWARE_MAP, OT2Specialization\n",
    "\n",
    "from IPython.display import Image\n",
    "\n",
    "# %load_ext autoreload\n",
    "# %autoreload 2"
   ]
  },
  {
   "cell_type": "code",
   "execution_count": 2,
   "metadata": {},
   "outputs": [
    {
     "name": "stdout",
     "output_type": "stream",
     "text": [
      "Setting up document\n"
     ]
    }
   ],
   "source": [
    "# set up the document\n",
    "print('Setting up document')\n",
    "doc = sbol3.Document()\n",
    "sbol3.set_namespace('https://bmey3labautomation.com/')"
   ]
  },
  {
   "cell_type": "code",
   "execution_count": 3,
   "metadata": {},
   "outputs": [
    {
     "name": "stdout",
     "output_type": "stream",
     "text": [
      "Importing libraries\n",
      "... Imported liquid handling\n",
      "... Imported plate handling\n",
      "... Imported spectrophotometry\n",
      "... Imported sample arrays\n",
      "... Imported pcr\n"
     ]
    }
   ],
   "source": [
    "# Import the primitive libraries\n",
    "print('Importing libraries')\n",
    "labop.import_library('liquid_handling')\n",
    "print('... Imported liquid handling')\n",
    "labop.import_library('plate_handling')\n",
    "print('... Imported plate handling')\n",
    "labop.import_library('spectrophotometry')\n",
    "print('... Imported spectrophotometry')\n",
    "labop.import_library('sample_arrays')\n",
    "print('... Imported sample arrays')\n",
    "labop.import_library('pcr')\n",
    "print('... Imported pcr')"
   ]
  },
  {
   "cell_type": "code",
   "execution_count": 4,
   "metadata": {},
   "outputs": [],
   "source": [
    "protocol = labop.Protocol('labop_golden_gate_assembly')\n",
    "protocol.name = \"LabOP Golden Gate Assembly Protocol\"\n",
    "doc.add(protocol)\n",
    "\n",
    "# create the materials to be provisioned\n",
    "CONT_NS = rdfl.Namespace('https://sift.net/container-ontology/container-ontology#')\n",
    "OM_NS = rdfl.Namespace('http://www.ontology-of-units-of-measure.org/resource/om-2/')\n",
    "\n",
    "PREFIX_MAP = json.dumps({\"cont\": CONT_NS, \"om\": OM_NS})"
   ]
  },
  {
   "cell_type": "code",
   "execution_count": 5,
   "metadata": {},
   "outputs": [
    {
     "data": {
      "text/plain": [
       "<sbol3.component.Component at 0x1279ff970>"
      ]
     },
     "execution_count": 5,
     "metadata": {},
     "output_type": "execute_result"
    }
   ],
   "source": [
    "# Define reagents\n",
    "# do we need to define all our reagents? if yes, how do we know which URI for our reagents?\n",
    "nfh2o = sbol3.Component('nfH2O', 'nucleasefreeh2o')\n",
    "nfh2o.name = 'Nuclease-free H2O'\n",
    "doc.add(nfh2o)\n",
    "\n",
    "t4_dnaligase = sbol3.Component('t4_dnaligase', 't4dnaligasebuffer')\n",
    "t4_dnaligase.name = 'T4 DNA Ligase Buffer'\n",
    "doc.add(t4_dnaligase)\n",
    "\n",
    "dest_plasmid = sbol3.Component('dest_plasmid', 'destinationplasmid')\n",
    "dest_plasmid.name = 'Destination Plasmid'\n",
    "doc.add(dest_plasmid)\n",
    "\n",
    "dna_frag1 = sbol3.Component('dna_frag1', 'dnafragments1')\n",
    "dna_frag1.name = 'DNA Fragment 1'\n",
    "doc.add(dna_frag1)\n",
    "\n",
    "dna_frag2 = sbol3.Component('dna_frag2', 'dnafragments2')\n",
    "dna_frag2.name = 'DNA Fragment 2'\n",
    "doc.add(dna_frag2)\n",
    "\n",
    "gg_enzyme = sbol3.Component('gg_enzyme', 'ggenzymemix')\n",
    "gg_enzyme.name = 'Golden Gate Enzyme Mix'\n",
    "doc.add(gg_enzyme)"
   ]
  },
  {
   "cell_type": "code",
   "execution_count": 6,
   "metadata": {},
   "outputs": [],
   "source": [
    "# Define labware\n",
    "spec_reagent_plate = labop.ContainerSpec('reagent_plate',\n",
    "                                    name='Well plate for reagents',\n",
    "                                    queryString=REVERSE_LABWARE_MAP['nest_96_wellplate_200ul_flat'],\n",
    "                                    prefixMap=PREFIX_MAP)\n",
    "spec_destination_plate = labop.ContainerSpec('destination_plate',\n",
    "                                        name='Destination plate',\n",
    "                                        queryString=REVERSE_LABWARE_MAP['biorad_96_wellplate_200ul_pcr'],\n",
    "                                        prefixMap=PREFIX_MAP)\n",
    "spec_tiprack = labop.ContainerSpec('tiprack',\n",
    "                                   name='tiprack',\n",
    "                                   queryString=REVERSE_LABWARE_MAP['opentrons_96_tiprack_10ul'],\n",
    "                                   prefixMap=PREFIX_MAP)\n",
    "p20 = sbol3.Agent('p20_single_gen2',\n",
    "                  name='P20 Single GEN2')\n",
    "thermocycler = sbol3.Agent('thermocycler_module',\n",
    "                           name = 'Thermocycler Module')\n",
    "doc.add(spec_tiprack)\n",
    "doc.add(spec_reagent_plate)\n",
    "doc.add(spec_destination_plate)\n",
    "doc.add(p20)\n",
    "doc.add(thermocycler)\n",
    "\n",
    "tiprack = protocol.primitive_step('EmptyContainer',\n",
    "                                  specification=spec_tiprack)\n",
    "reagent_plate = protocol.primitive_step('EmptyContainer',\n",
    "                                        specification=spec_reagent_plate)\n",
    "destination_plate = protocol.primitive_step('EmptyContainer',\n",
    "                                            specification=spec_destination_plate)"
   ]
  },
  {
   "cell_type": "code",
   "execution_count": 7,
   "metadata": {},
   "outputs": [],
   "source": [
    "# Load OT2 robot with labware\n",
    "left_pipette = protocol.primitive_step('ConfigureRobot', \n",
    "                                      #  instrument=OT2Specialization.EQUIPMENT['p20_single_gen2'],\n",
    "                                      instrument=p20,\n",
    "                                       mount='left')\n",
    "thermocycler_module = protocol.primitive_step('ConfigureRobot',\n",
    "                                              instrument=thermocycler,\n",
    "                                            #   instrument=OT2Specialization.EQUIPMENT['thermocycler'],\n",
    "                                              mount='7')\n",
    "tiprack = protocol.primitive_step('LoadRackOnInstrument',\n",
    "                                  rack=spec_tiprack,\n",
    "                                  coordinates='1')\n",
    "load_reagent_plate = protocol.primitive_step('LoadRackOnInstrument',\n",
    "                                             rack=spec_reagent_plate,\n",
    "                                             coordinates='4')\n",
    "load_destination_plate = protocol.primitive_step('LoadContainerOnInstrument',\n",
    "                                                 specification=spec_destination_plate,\n",
    "                                                 instrument=thermocycler,\n",
    "                                                #  instrument=OT2Specialization.EQUIPMENT['thermocycler'],\n",
    "                                                 slots='A1:H12') # 96 wells"
   ]
  },
  {
   "cell_type": "code",
   "execution_count": 8,
   "metadata": {},
   "outputs": [],
   "source": [
    "# Set up target samples\n",
    "assembly_reaction = protocol.primitive_step('PlateCoordinates',\n",
    "                                            source=destination_plate.output_pin('samples'),\n",
    "                                            coordinates='A1:H1')\n",
    "negative_control = protocol.primitive_step('PlateCoordinates',\n",
    "                                           source=destination_plate.output_pin('samples'),\n",
    "                                           coordinates='A2:H2')"
   ]
  },
  {
   "cell_type": "code",
   "execution_count": 9,
   "metadata": {},
   "outputs": [],
   "source": [
    "# Set up reagents - assuming reagents are loaded onto reagent plate manually\n",
    "nfh2o_well = protocol.primitive_step('PlateCoordinates',\n",
    "                                     source=reagent_plate.output_pin('samples'),\n",
    "                                     coordinates='A1')\n",
    "t4_dnaligase_well = protocol.primitive_step('PlateCoordinates',\n",
    "                                            source=reagent_plate.output_pin('samples'),\n",
    "                                            coordinates='A2')\n",
    "dest_plasmid_well = protocol.primitive_step('PlateCoordinates',\n",
    "                                            source=reagent_plate.output_pin('samples'),\n",
    "                                            coordinates='A3')\n",
    "dna_frag1_well = protocol.primitive_step('PlateCoordinates',\n",
    "                                         source=reagent_plate.output_pin('samples'),\n",
    "                                         coordinates='A4')\n",
    "dna_frag2_well = protocol.primitive_step('PlateCoordinates',\n",
    "                                         source=reagent_plate.output_pin('samples'),\n",
    "                                         coordinates='A5')\n",
    "gg_enzyme_well = protocol.primitive_step('PlateCoordinates',\n",
    "                                         source=reagent_plate.output_pin('samples'),\n",
    "                                         coordinates='A6')"
   ]
  },
  {
   "cell_type": "code",
   "execution_count": 10,
   "metadata": {},
   "outputs": [],
   "source": [
    "# protocol\n",
    "transfer = protocol.primitive_step('Transfer',\n",
    "                                   source=nfh2o_well.output_pin('samples'),\n",
    "                                   destination=assembly_reaction.output_pin('samples'),\n",
    "                                   amount=sbol3.Measure(20,tyto.OM.microliter))\n",
    "transfer.name = '1. Transfer 28 ul of nuclease-free H2O (assembly reaction).'\n",
    "\n",
    "transfer = protocol.primitive_step('Transfer',\n",
    "                                   source=nfh2o_well.output_pin('samples'),\n",
    "                                   destination=assembly_reaction.output_pin('samples'),\n",
    "                                   amount=sbol3.Measure(8,tyto.OM.microliter))\n",
    "transfer.name = '1. Transfer 28 ul of nuclease-free H2O (assembly reaction).'\n",
    "\n",
    "transfer = protocol.primitive_step('Transfer',\n",
    "                                   source=nfh2o_well.output_pin('samples'),\n",
    "                                   destination=negative_control.output_pin('samples'),\n",
    "                                   amount=sbol3.Measure(20,tyto.OM.microliter))\n",
    "transfer.name = '2. Transfer 30 ul of nuclease-free H2O (negative control).'\n",
    "\n",
    "transfer = protocol.primitive_step('Transfer',\n",
    "                                   source=nfh2o_well.output_pin('samples'),\n",
    "                                   destination=negative_control.output_pin('samples'),\n",
    "                                   amount=sbol3.Measure(10,tyto.OM.microliter))\n",
    "transfer.name = '2. Transfer 30 ul of nuclease-free H2O (negative control).'\n",
    "\n",
    "transfer = protocol.primitive_step('Transfer',\n",
    "                                   source=t4_dnaligase_well.output_pin('samples'),\n",
    "                                   destination=assembly_reaction.output_pin('samples'),\n",
    "                                   amount=sbol3.Measure(4,tyto.OM.microliter))\n",
    "transfer.name = '3. Transfer 4 ul of T4 DNA ligase buffer (assembly reaction).'\n",
    "\n",
    "transfer = protocol.primitive_step('Transfer',\n",
    "                                   source=t4_dnaligase_well.output_pin('samples'),\n",
    "                                   destination=negative_control.output_pin('samples'),\n",
    "                                   amount=sbol3.Measure(4,tyto.OM.microliter))\n",
    "transfer.name = '4. Transfer 4 ul of T4 DNA ligase buffer (negative control).'\n",
    "\n",
    "transfer = protocol.primitive_step('Transfer',\n",
    "                                   source=dest_plasmid_well.output_pin('samples'),\n",
    "                                   destination=assembly_reaction.output_pin('samples'),\n",
    "                                   amount=sbol3.Measure(2,tyto.OM.microliter))\n",
    "transfer.name = '5. Transfer 2 ul of destination plasmid (assembly reaction).'\n",
    "\n",
    "transfer = protocol.primitive_step('Transfer',\n",
    "                                   source=dest_plasmid_well.output_pin('samples'),\n",
    "                                   destination=negative_control.output_pin('samples'),\n",
    "                                   amount=sbol3.Measure(2,tyto.OM.microliter))\n",
    "transfer.name = '6. Transfer 2 ul of destination plasmid (negative control).'\n",
    "\n",
    "transfer = protocol.primitive_step('Transfer',\n",
    "                                   source=dna_frag1_well.output_pin('samples'),\n",
    "                                   destination=assembly_reaction.output_pin('samples'),\n",
    "                                   amount=sbol3.Measure(2,tyto.OM.microliter))\n",
    "transfer.name = '7. Transfer 2 ul of DNA fragment 1 (assembly reaction).'\n",
    "\n",
    "transfer = protocol.primitive_step('Transfer',\n",
    "                                   source=dna_frag1_well.output_pin('samples'),\n",
    "                                   destination=negative_control.output_pin('samples'),\n",
    "                                   amount=sbol3.Measure(2,tyto.OM.microliter))\n",
    "transfer.name = '8. Transfer 2 ul of DNA fragment 1 (negative control).'\n",
    "\n",
    "transfer = protocol.primitive_step('Transfer',\n",
    "                                   source=dna_frag2_well.output_pin('samples'),\n",
    "                                   destination=assembly_reaction.output_pin('samples'),\n",
    "                                   amount=sbol3.Measure(2,tyto.OM.microliter))\n",
    "transfer.name = '9. Transfer 2 ul of DNA fragment 2 (assembly reaction).'\n",
    "\n",
    "transfer = protocol.primitive_step('Transfer',\n",
    "                                   source=dna_frag2_well.output_pin('samples'),\n",
    "                                   destination=negative_control.output_pin('samples'),\n",
    "                                   amount=sbol3.Measure(2,tyto.OM.microliter))\n",
    "transfer.name = '10. Transfer 2 ul of DNA fragment 2 (negative control).'\n",
    "\n",
    "transfer = protocol.primitive_step('Transfer',\n",
    "                                   source=gg_enzyme_well.output_pin('samples'),\n",
    "                                   destination=assembly_reaction.output_pin('samples'),\n",
    "                                   amount=sbol3.Measure(2,tyto.OM.microliter))\n",
    "transfer.name = '11. Transfer 2 ul of Golden Gate enzyme mix (assembly reaction).'\n",
    "\n",
    "\n",
    "# mix\n",
    "\n",
    "# incubate"
   ]
  },
  {
   "cell_type": "code",
   "execution_count": 11,
   "metadata": {},
   "outputs": [
    {
     "name": "stderr",
     "output_type": "stream",
     "text": [
      "WARNING:/Users/jeytse/BMEY3_LabAutomationGroupProject/labOP_env/lib/python3.10/site-packages/labop_convert/behavior_specialization.py:'ContainerSpec' object has no attribute 'addl_conditions'\n",
      "WARNING:/Users/jeytse/BMEY3_LabAutomationGroupProject/labOP_env/lib/python3.10/site-packages/labop_convert/behavior_specialization.py:Cannot resolve container specification using remote ontology server. Defaulting to static ontology copy\n",
      "WARNING:/Users/jeytse/BMEY3_LabAutomationGroupProject/labOP_env/lib/python3.10/site-packages/labop_convert/behavior_specialization.py:'ContainerSpec' object has no attribute 'addl_conditions'\n",
      "WARNING:/Users/jeytse/BMEY3_LabAutomationGroupProject/labOP_env/lib/python3.10/site-packages/labop_convert/behavior_specialization.py:Cannot resolve container specification using remote ontology server. Defaulting to static ontology copy\n",
      "WARNING:/Users/jeytse/BMEY3_LabAutomationGroupProject/labOP_env/lib/python3.10/site-packages/labop_convert/behavior_specialization.py:'ContainerSpec' object has no attribute 'addl_conditions'\n",
      "WARNING:/Users/jeytse/BMEY3_LabAutomationGroupProject/labOP_env/lib/python3.10/site-packages/labop_convert/behavior_specialization.py:Cannot resolve container specification using remote ontology server. Defaulting to static ontology copy\n",
      "WARNING:/Users/jeytse/BMEY3_LabAutomationGroupProject/labOP_env/lib/python3.10/site-packages/labop_convert/behavior_specialization.py:<class 'labop_convert.opentrons.opentrons_specialization.OT2Specialization'> Could not process() ActivityNodeException: CallBehaviorExecution17: 'pipette'\n",
      "ERROR:/Users/jeytse/BMEY3_LabAutomationGroupProject/labOP_env/lib/python3.10/site-packages/labop/execution_engine_utils.py:Could Not Process https://bmey3labautomation.com/test_execution/CallBehaviorExecution17: 'pipette'\n",
      "WARNING:/Users/jeytse/BMEY3_LabAutomationGroupProject/labOP_env/lib/python3.10/site-packages/labop_convert/behavior_specialization.py:<class 'labop_convert.opentrons.opentrons_specialization.OT2Specialization'> Could not process() ActivityNodeException: CallBehaviorExecution18: 'pipette'\n",
      "ERROR:/Users/jeytse/BMEY3_LabAutomationGroupProject/labOP_env/lib/python3.10/site-packages/labop/execution_engine_utils.py:Could Not Process https://bmey3labautomation.com/test_execution/CallBehaviorExecution18: 'pipette'\n",
      "WARNING:/Users/jeytse/BMEY3_LabAutomationGroupProject/labOP_env/lib/python3.10/site-packages/labop_convert/behavior_specialization.py:<class 'labop_convert.opentrons.opentrons_specialization.OT2Specialization'> Could not process() ActivityNodeException: CallBehaviorExecution19: 'pipette'\n",
      "ERROR:/Users/jeytse/BMEY3_LabAutomationGroupProject/labOP_env/lib/python3.10/site-packages/labop/execution_engine_utils.py:Could Not Process https://bmey3labautomation.com/test_execution/CallBehaviorExecution19: 'pipette'\n",
      "WARNING:/Users/jeytse/BMEY3_LabAutomationGroupProject/labOP_env/lib/python3.10/site-packages/labop_convert/behavior_specialization.py:<class 'labop_convert.opentrons.opentrons_specialization.OT2Specialization'> Could not process() ActivityNodeException: CallBehaviorExecution20: 'pipette'\n",
      "ERROR:/Users/jeytse/BMEY3_LabAutomationGroupProject/labOP_env/lib/python3.10/site-packages/labop/execution_engine_utils.py:Could Not Process https://bmey3labautomation.com/test_execution/CallBehaviorExecution20: 'pipette'\n",
      "WARNING:/Users/jeytse/BMEY3_LabAutomationGroupProject/labOP_env/lib/python3.10/site-packages/labop_convert/behavior_specialization.py:<class 'labop_convert.opentrons.opentrons_specialization.OT2Specialization'> Could not process() ActivityNodeException: CallBehaviorExecution21: 'pipette'\n",
      "ERROR:/Users/jeytse/BMEY3_LabAutomationGroupProject/labOP_env/lib/python3.10/site-packages/labop/execution_engine_utils.py:Could Not Process https://bmey3labautomation.com/test_execution/CallBehaviorExecution21: 'pipette'\n",
      "WARNING:/Users/jeytse/BMEY3_LabAutomationGroupProject/labOP_env/lib/python3.10/site-packages/labop_convert/behavior_specialization.py:<class 'labop_convert.opentrons.opentrons_specialization.OT2Specialization'> Could not process() ActivityNodeException: CallBehaviorExecution22: 'pipette'\n",
      "ERROR:/Users/jeytse/BMEY3_LabAutomationGroupProject/labOP_env/lib/python3.10/site-packages/labop/execution_engine_utils.py:Could Not Process https://bmey3labautomation.com/test_execution/CallBehaviorExecution22: 'pipette'\n",
      "WARNING:/Users/jeytse/BMEY3_LabAutomationGroupProject/labOP_env/lib/python3.10/site-packages/labop_convert/behavior_specialization.py:<class 'labop_convert.opentrons.opentrons_specialization.OT2Specialization'> Could not process() ActivityNodeException: CallBehaviorExecution23: 'pipette'\n",
      "ERROR:/Users/jeytse/BMEY3_LabAutomationGroupProject/labOP_env/lib/python3.10/site-packages/labop/execution_engine_utils.py:Could Not Process https://bmey3labautomation.com/test_execution/CallBehaviorExecution23: 'pipette'\n",
      "WARNING:/Users/jeytse/BMEY3_LabAutomationGroupProject/labOP_env/lib/python3.10/site-packages/labop_convert/behavior_specialization.py:<class 'labop_convert.opentrons.opentrons_specialization.OT2Specialization'> Could not process() ActivityNodeException: CallBehaviorExecution24: 'pipette'\n",
      "ERROR:/Users/jeytse/BMEY3_LabAutomationGroupProject/labOP_env/lib/python3.10/site-packages/labop/execution_engine_utils.py:Could Not Process https://bmey3labautomation.com/test_execution/CallBehaviorExecution24: 'pipette'\n",
      "WARNING:/Users/jeytse/BMEY3_LabAutomationGroupProject/labOP_env/lib/python3.10/site-packages/labop_convert/behavior_specialization.py:<class 'labop_convert.opentrons.opentrons_specialization.OT2Specialization'> Could not process() ActivityNodeException: CallBehaviorExecution25: 'pipette'\n",
      "ERROR:/Users/jeytse/BMEY3_LabAutomationGroupProject/labOP_env/lib/python3.10/site-packages/labop/execution_engine_utils.py:Could Not Process https://bmey3labautomation.com/test_execution/CallBehaviorExecution25: 'pipette'\n",
      "WARNING:/Users/jeytse/BMEY3_LabAutomationGroupProject/labOP_env/lib/python3.10/site-packages/labop_convert/behavior_specialization.py:<class 'labop_convert.opentrons.opentrons_specialization.OT2Specialization'> Could not process() ActivityNodeException: CallBehaviorExecution26: 'pipette'\n",
      "ERROR:/Users/jeytse/BMEY3_LabAutomationGroupProject/labOP_env/lib/python3.10/site-packages/labop/execution_engine_utils.py:Could Not Process https://bmey3labautomation.com/test_execution/CallBehaviorExecution26: 'pipette'\n",
      "WARNING:/Users/jeytse/BMEY3_LabAutomationGroupProject/labOP_env/lib/python3.10/site-packages/labop_convert/behavior_specialization.py:<class 'labop_convert.opentrons.opentrons_specialization.OT2Specialization'> Could not process() ActivityNodeException: CallBehaviorExecution27: 'pipette'\n",
      "ERROR:/Users/jeytse/BMEY3_LabAutomationGroupProject/labOP_env/lib/python3.10/site-packages/labop/execution_engine_utils.py:Could Not Process https://bmey3labautomation.com/test_execution/CallBehaviorExecution27: 'pipette'\n",
      "WARNING:/Users/jeytse/BMEY3_LabAutomationGroupProject/labOP_env/lib/python3.10/site-packages/labop_convert/behavior_specialization.py:<class 'labop_convert.opentrons.opentrons_specialization.OT2Specialization'> Could not process() ActivityNodeException: CallBehaviorExecution28: 'pipette'\n",
      "ERROR:/Users/jeytse/BMEY3_LabAutomationGroupProject/labOP_env/lib/python3.10/site-packages/labop/execution_engine_utils.py:Could Not Process https://bmey3labautomation.com/test_execution/CallBehaviorExecution28: 'pipette'\n",
      "WARNING:/Users/jeytse/BMEY3_LabAutomationGroupProject/labOP_env/lib/python3.10/site-packages/labop_convert/behavior_specialization.py:<class 'labop_convert.opentrons.opentrons_specialization.OT2Specialization'> Could not process() ActivityNodeException: CallBehaviorExecution29: 'pipette'\n",
      "ERROR:/Users/jeytse/BMEY3_LabAutomationGroupProject/labOP_env/lib/python3.10/site-packages/labop/execution_engine_utils.py:Could Not Process https://bmey3labautomation.com/test_execution/CallBehaviorExecution29: 'pipette'\n"
     ]
    },
    {
     "name": "stdout",
     "output_type": "stream",
     "text": [
      "Successful execution. Script dumped to ot2_gg_labop.\n"
     ]
    }
   ],
   "source": [
    "filename = 'ot2_gg_labop'\n",
    "# filename = os.path.join(out_dir, \"ot2_gibson_assembly_labop\") # out_dir currently points to test\n",
    "agent = sbol3.Agent('ot2_machine', name='OT2 machine')\n",
    "ee = ExecutionEngine(specializations=[OT2Specialization(filename)])\n",
    "parameter_values = []\n",
    "execution = ee.execute(protocol, agent, id='test_execution')"
   ]
  }
 ],
 "metadata": {
  "kernelspec": {
   "display_name": "labOP_env",
   "language": "python",
   "name": "python3"
  },
  "language_info": {
   "codemirror_mode": {
    "name": "ipython",
    "version": 3
   },
   "file_extension": ".py",
   "mimetype": "text/x-python",
   "name": "python",
   "nbconvert_exporter": "python",
   "pygments_lexer": "ipython3",
   "version": "3.10.0"
  },
  "orig_nbformat": 4,
  "vscode": {
   "interpreter": {
    "hash": "7f7172b19abcdd4ad2180ded8ce592d94944104b9debf83e6c1037aff62c6a1e"
   }
  }
 },
 "nbformat": 4,
 "nbformat_minor": 2
}
