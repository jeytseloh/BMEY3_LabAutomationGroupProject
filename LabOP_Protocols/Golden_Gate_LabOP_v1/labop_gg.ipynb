{
 "cells": [
  {
   "attachments": {},
   "cell_type": "markdown",
   "metadata": {},
   "source": [
    "The Golden Gate Assembly® Protocol below is obtained from the New England Biolabs (NEB).\n",
    "https://international.neb.com/protocols/2018/10/02/golden-gate-assembly-protocol-for-using-neb-golden-gate-assembly-mix-e1601"
   ]
  },
  {
   "cell_type": "code",
   "execution_count": null,
   "metadata": {},
   "outputs": [],
   "source": [
    "import labop\n",
    "from labop.execution_engine import ExecutionEngine\n",
    "from labop_convert.opentrons.opentrons_specialization import OT2Specialization\n",
    "from labop.utils.opentrons import run_ot2_sim, make_demo_script\n",
    "from labop_convert.markdown.markdown_specialization import MarkdownSpecialization\n",
    "\n",
    "import sbol3\n",
    "import uml\n",
    "import tyto\n",
    "import json\n",
    "import csv\n",
    "import rdflib as rdfl\n",
    "from IPython.display import Markdown, IFrame, Image\n",
    "\n",
    "import os\n",
    "\n",
    "# Set up our working directory for protocol files\n",
    "out_dir = os.path.join(os.path.abspath(''), 'out')\n",
    "if not os.path.exists(out_dir):\n",
    "    os.mkdir(out_dir)"
   ]
  },
  {
   "cell_type": "code",
   "execution_count": null,
   "metadata": {},
   "outputs": [],
   "source": [
    "# Setting up the document\n",
    "# Set up the document\n",
    "print('Setting up the document')\n",
    "doc = sbol3.Document()\n",
    "sbol3.set_namespace('http://bbn.com/test') # any namespace works\n",
    "\n",
    "# Import the primitive libraries\n",
    "print('Importing the libraries')\n",
    "labop.import_library('liquid_handling')\n",
    "print('...Imported liquid handling')\n",
    "labop.import_library('plate_handling')\n",
    "print('...Imported plate handling')\n",
    "labop.import_library('spectrophotometry')\n",
    "print('...Imported spectrophotometry')\n",
    "labop.import_library('sample_arrays')\n",
    "print('...Imported sample arrays')\n",
    "\n",
    "# Create the protocol\n",
    "print('Creating protocol')\n",
    "protocol = labop.Protocol('OT2_GibsonAssembly')\n",
    "protocol.name = 'OT2 Gibson Assembly'\n",
    "protocol.description = '''\n",
    "This protocol is for Golden Gate Assembly of DNA fragments into plasmids using the New England Biolabs\n",
    "Gibson Assembly® Protocol (E5510).\n",
    "The protocol implements the specific case of 2-3 fragment assembly:\n",
    "https://international.neb.com/protocols/2018/10/02/golden-gate-assembly-protocol-for-using-neb-golden-gate-assembly-mix-e1601\n",
    "'''\n",
    "doc.add(protocol)"
   ]
  },
  {
   "cell_type": "code",
   "execution_count": null,
   "metadata": {},
   "outputs": [],
   "source": [
    "# Create the materials to be provisioned\n",
    "\n",
    "CONT_NS = rdfl.Namespace('https://sift.net/container-ontology/container-ontology#')\n",
    "OM_NS = rdfl.Namespace('http://www.ontology-of-units-of-measure.org/resource/om-2/')\n",
    "\n",
    "PREFIX_MAP = json.dumps({\"cont\": CONT_NS, \"om\": OM_NS})\n",
    "\n",
    "nf_h20 = sbol3.Component('deionized_H2O', '') # add identifier for deionized water\n",
    "nf_h20.name = 'Nuclease-free Water'\n",
    "doc.add(nf_h20)\n",
    "\n",
    "inserts = sbol3.Component('inserts', '')\n",
    "inserts.name = 'Inserts'\n",
    "doc.add(inserts)\n",
    "\n",
    "gg_mix = sbol3.Component('NEB_Gibson_AssemblyMasterMix', tyto.SBO.functional_entity)\n",
    "gg_mix.name = 'NEB Golden Gate Assembly Master Mix'\n",
    "gg_mix.derived_from.append('https://international.neb.com/products/e5510-gibson-assembly-cloning-kit#Product%20Information')\n",
    "doc.add(gg_mix)\n",
    "\n",
    "t4_dna_buffer = sbol3.Component('t4_dna_ligase_buffer', '')\n",
    "t4_dna_buffer.name = 'T4 DNA Ligase Buffer'\n",
    "doc.add(t4_dna_buffer)\n",
    "\n",
    "dest_plasmid = sbol3.Component('destination_plasmid', '')\n",
    "dest_plasmid.name = 'pGGAselect Destination Plasmid'\n",
    "doc.add(dest_plasmid)"
   ]
  },
  {
   "cell_type": "code",
   "execution_count": null,
   "metadata": {},
   "outputs": [],
   "source": [
    "# Configure OT2 and load with labware\n",
    "p20 = sbol3.Agent('p20_single_gen2', name='P20 Single GEN2')\n",
    "doc.add(p20)\n",
    "\n",
    "# not sure about the mounts !!\n",
    "load = protocol.primitive_step('ConfigureRobot', instrument=OT2Specialization.EQUIPMENT['p20_single_gen2'], mount='left')\n",
    "load = protocol.primitive_step('ConfigureRobot', instrument=OT2Specialization.EQUIPMENT['thermocycler'], mount='7')\n",
    "tiprack_spec = labop.ContainerSpec('tiprack', \n",
    "                                   queryString='cont:Opentrons96TipRack300uL') # is this comaptible with P20 - 20uL tips?\n",
    "load = protocol.primitive_step('LoadRackOnInstrument', rack=tiprack_spec, coordinates='1')\n",
    "# only see 10uL, 300uL, 1000uL w/o filter and 10uL, 200uL, 1000uL w filter in container-ontology.ttl\n",
    "\n",
    "# Specify layout of DNA source plate and build plate\n",
    "dna_sources = protocol.input_value('source_samples', 'http://bioprotocols.org/labop#SampleCollection')\n",
    "dna_build_layout = protocol.input_value('build_layout', 'http://bioprotocols.org/labop#SampleData')\n",
    "\n",
    "# Set up plate for building\n",
    "build_wells = protocol.primitive_step('DuplicateCollection', source=dna_build_layout)\n",
    "\n",
    "# Set up plate with reaction\n",
    "# reaction_plate = labop.ContainerSpec('reaction_plate', \n",
    "#                                      name='Reaction in 96-well plate',\n",
    "#                                      queryString='cont:Corning96WellPlate360uLFlat',\n",
    "#                                      prefixMap=PREFIX_MAP)\n",
    "# load = protocol.primitive_step('LoadRackOnInstrument', rack=reaction_plate, coordinates='3')\n",
    "# reaction_plate = protocol.primitive_step('EmptyContainer', specification=reaction_plate)"
   ]
  },
  {
   "cell_type": "code",
   "execution_count": null,
   "metadata": {},
   "outputs": [],
   "source": [
    "# Transfer DNA fragments into selected wells according to build plan\n",
    "# protocol.primitive_step('TransferByMap', source=dna_sources, destination=build_wells.output_pin('samples'), plan=dna_build_layout)\n",
    "# transfer = protocol.primitive_step('Transfer', resource=dna_sources, destination=build_wells.output_pin('samples'),\n",
    "#                                    amount=sbol3.Measure(5, tyto.OM.microliter))\n",
    "# # unsure about the volume of DNA fragments cuz NEB says 0.2-0.5pmols * XuL\n",
    "# transfer.name = 'Add DNA fragments'\n",
    "\n",
    "# Transfer nuclease-free H20 into build wells\n",
    "transfer = protocol.primitive_step('Transfer', resource=nf_h20, destination=build_wells.output_pin('samples'),\n",
    "                        amount=sbol3.Measure(10, tyto.OM.microliter))\n",
    "transfer.name = 'Add deionized water'\n",
    "\n",
    "# Transfer Golden Gate Assembly Master Mix into build wells\n",
    "transfer = protocol.primitive_step('Transfer', resource=gg_mix, destination=build_wells.output_pin('samples'),\n",
    "                        amount=sbol3.Measure(10, tyto.OM.microliter))\n",
    "transfer.name = 'Add Gibson Assembly Master Mix'\n",
    "\n",
    "# Seal and spin to mix\n",
    "mix = protocol.primitive_step('Seal', location=build_wells.output_pin('samples'))\n",
    "mix.name = 'Seal tubes'\n",
    "mix = protocol.primitive_step('Spin', acceleration=sbol3.Measure(300, 'http://bioprotocols.org/temporary/unit/g'),\n",
    "                        duration=sbol3.Measure(3, tyto.OM.minute))\n",
    "mix.name = 'Spin to mix'\n",
    "mix = protocol.primitive_step('Unseal', location=build_wells.output_pin('samples'))\n",
    "mix.name = 'Unseal tubes'"
   ]
  },
  {
   "cell_type": "code",
   "execution_count": null,
   "metadata": {},
   "outputs": [],
   "source": [
    "# Incubation\n",
    "incubate = protocol.primitive_step('Incubate', location=build_wells.output_pin('samples'),\n",
    "                        duration=sbol3.Measure(15, tyto.OM.minute),\n",
    "                        temperature=sbol3.Measure(50, tyto.OM.degree_Celsius))\n",
    "incubate.name = 'Incubate'"
   ]
  },
  {
   "cell_type": "code",
   "execution_count": null,
   "metadata": {},
   "outputs": [],
   "source": [
    "# Execute the protocol\n",
    "filename = 'ot2_gg_labop'\n",
    "agent = sbol3.Agent('ot2_machine', name='OT2 machine')\n",
    "ee = ExecutionEngine(specializations=[OT2Specialization(filename)], failsafe=False)\n",
    "parameterValues = []\n",
    "execution = ee.execute(protocol, agent, id='test_execution')"
   ]
  },
  {
   "cell_type": "code",
   "execution_count": null,
   "metadata": {},
   "outputs": [],
   "source": [
    "# Print markdown on execution\n",
    "print(execution.markdown)"
   ]
  }
 ],
 "metadata": {
  "language_info": {
   "name": "python"
  },
  "orig_nbformat": 4
 },
 "nbformat": 4,
 "nbformat_minor": 2
}
