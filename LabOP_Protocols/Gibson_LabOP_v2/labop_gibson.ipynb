{
 "cells": [
  {
   "attachments": {},
   "cell_type": "markdown",
   "metadata": {},
   "source": [
    "The Gibson Assembly® Protocol below is obtained from the New England Biolabs (NEB).\n",
    "https://international.neb.com/protocols/2012/12/11/gibson-assembly-protocol-e5510"
   ]
  },
  {
   "cell_type": "code",
   "execution_count": 1,
   "metadata": {},
   "outputs": [],
   "source": [
    "%reset"
   ]
  },
  {
   "cell_type": "code",
   "execution_count": 2,
   "metadata": {},
   "outputs": [
    {
     "name": "stderr",
     "output_type": "stream",
     "text": [
      "/Users/jeytse/BMEY3_LabAutomationGroupProject/labOP_env/lib/python3.10/site-packages/sbol3/object.py:70: UserWarning: Using a default namespace. To set a namespace use set_namespace()\n",
      "  warnings.warn('Using a default namespace.'\n"
     ]
    }
   ],
   "source": [
    "from logging import Logger\n",
    "import os\n",
    "import logging\n",
    "import sbol3\n",
    "import labop\n",
    "import tyto\n",
    "import uml\n",
    "import json\n",
    "import rdflib as rdfl\n",
    "from typing import Dict, Tuple\n",
    "from sbol3 import Document\n",
    "\n",
    "from labop.execution_engine import ExecutionEngine\n",
    "from labop_convert.markdown.markdown_specialization import MarkdownSpecialization\n",
    "from labop_convert.opentrons.opentrons_specialization import REVERSE_LABWARE_MAP, OT2Specialization\n",
    "\n",
    "from IPython.display import Image\n",
    "\n",
    "# %load_ext autoreload\n",
    "# %autoreload 2"
   ]
  },
  {
   "cell_type": "markdown",
   "metadata": {},
   "source": []
  },
  {
   "cell_type": "code",
   "execution_count": 3,
   "metadata": {},
   "outputs": [
    {
     "name": "stdout",
     "output_type": "stream",
     "text": [
      "Setting up document\n"
     ]
    }
   ],
   "source": [
    "# set up the document\n",
    "print('Setting up document')\n",
    "doc = sbol3.Document()\n",
    "sbol3.set_namespace('https://bmey3labautomation.com/')"
   ]
  },
  {
   "cell_type": "code",
   "execution_count": 4,
   "metadata": {},
   "outputs": [
    {
     "name": "stdout",
     "output_type": "stream",
     "text": [
      "Importing libraries\n",
      "... Imported liquid handling\n",
      "... Imported plate handling\n",
      "... Imported spectrophotometry\n",
      "... Imported sample arrays\n",
      "... Imported pcr\n"
     ]
    }
   ],
   "source": [
    "# Import the primitive libraries\n",
    "print('Importing libraries')\n",
    "labop.import_library('liquid_handling')\n",
    "print('... Imported liquid handling')\n",
    "labop.import_library('plate_handling')\n",
    "print('... Imported plate handling')\n",
    "labop.import_library('spectrophotometry')\n",
    "print('... Imported spectrophotometry')\n",
    "labop.import_library('sample_arrays')\n",
    "print('... Imported sample arrays')\n",
    "labop.import_library('pcr')\n",
    "print('... Imported pcr')"
   ]
  },
  {
   "cell_type": "code",
   "execution_count": 5,
   "metadata": {},
   "outputs": [],
   "source": [
    "protocol = labop.Protocol('labop_gibson_assembly')\n",
    "protocol.name = \"LabOP Gibson Assembly Protocol\"\n",
    "doc.add(protocol)\n",
    "\n",
    "# create the materials to be provisioned\n",
    "CONT_NS = rdfl.Namespace('https://sift.net/container-ontology/container-ontology#')\n",
    "OM_NS = rdfl.Namespace('http://www.ontology-of-units-of-measure.org/resource/om-2/')\n",
    "\n",
    "PREFIX_MAP = json.dumps({\"cont\": CONT_NS, \"om\": OM_NS})"
   ]
  },
  {
   "cell_type": "code",
   "execution_count": 6,
   "metadata": {},
   "outputs": [
    {
     "data": {
      "text/plain": [
       "<sbol3.component.Component at 0x124c6a9b0>"
      ]
     },
     "execution_count": 6,
     "metadata": {},
     "output_type": "execute_result"
    }
   ],
   "source": [
    "# Define reagents\n",
    "# do we need to define all our reagents? if yes, how do we know which URI for our reagents?\n",
    "dh2o = sbol3.Component('dH2O', 'https://pubchem.ncbi.nlm.nih.gov/substance/24901740')\n",
    "dh2o.name = 'Water, sterile-filtered, BioReagent, suitable for cell culture'\n",
    "doc.add(dh2o)\n",
    "\n",
    "master_mix = sbol3.Component('master_mix', 'gibsonassemblymastermix')\n",
    "master_mix.name = 'Gibson Assembly Master Mix'\n",
    "doc.add(master_mix)\n",
    "\n",
    "dna_frag1 = sbol3.Component('dna_frag1', 'dnafragments1')\n",
    "dna_frag1.name = 'DNA Fragment 1'\n",
    "doc.add(dna_frag1)\n",
    "\n",
    "dna_frag2 = sbol3.Component('dna_frag2', 'dnafragments2')\n",
    "dna_frag2.name = 'DNA Fragment 2'\n",
    "doc.add(dna_frag2)"
   ]
  },
  {
   "cell_type": "code",
   "execution_count": 7,
   "metadata": {},
   "outputs": [],
   "source": [
    "# Define labware\n",
    "spec_reagent_plate = labop.ContainerSpec('reagent_plate',\n",
    "                                    name='Well plate for reagents',\n",
    "                                    queryString=REVERSE_LABWARE_MAP['nest_96_wellplate_200ul_flat'],\n",
    "                                    prefixMap=PREFIX_MAP)\n",
    "spec_destination_plate = labop.ContainerSpec('destination_plate',\n",
    "                                        name='Destination plate',\n",
    "                                        queryString=REVERSE_LABWARE_MAP['biorad_96_wellplate_200ul_pcr'],\n",
    "                                        prefixMap=PREFIX_MAP)\n",
    "spec_tiprack = labop.ContainerSpec('tiprack',\n",
    "                                   name='tiprack',\n",
    "                                   queryString=REVERSE_LABWARE_MAP['opentrons_96_tiprack_10ul'],\n",
    "                                   prefixMap=PREFIX_MAP)\n",
    "p20 = sbol3.Agent('p20_single_gen2',\n",
    "                  name='P20 Single GEN2')\n",
    "thermocycler = sbol3.Agent('thermocycler_module',\n",
    "                           name = 'Thermocycler Module')\n",
    "doc.add(spec_tiprack)\n",
    "doc.add(spec_reagent_plate)\n",
    "doc.add(spec_destination_plate)\n",
    "doc.add(p20)\n",
    "doc.add(thermocycler)\n",
    "\n",
    "tiprack = protocol.primitive_step('EmptyContainer',\n",
    "                                  specification=spec_tiprack)\n",
    "reagent_plate = protocol.primitive_step('EmptyContainer',\n",
    "                                        specification=spec_reagent_plate)\n",
    "destination_plate = protocol.primitive_step('EmptyContainer',\n",
    "                                            specification=spec_destination_plate)"
   ]
  },
  {
   "cell_type": "code",
   "execution_count": 8,
   "metadata": {},
   "outputs": [],
   "source": [
    "# print(spec_destination_plate)\n",
    "# print(spec_reagent_plate)\n",
    "# print(spec_tiprack)\n",
    "# print(type(spec_destination_plate))\n",
    "# print(labop.ContainerSpec)\n",
    "\n",
    "# print(REVERSE_LABWARE_MAP['nest_96_wellplate_200ul_flat'])\n",
    "# print(REVERSE_LABWARE_MAP['biorad_96_wellplate_200ul_pcr'])\n",
    "# print(REVERSE_LABWARE_MAP['opentrons_96_tiprack_10ul'])\n",
    "\n",
    "# print(doc)"
   ]
  },
  {
   "cell_type": "code",
   "execution_count": 9,
   "metadata": {},
   "outputs": [],
   "source": [
    "# Load OT2 robot with labware\n",
    "left_pipette = protocol.primitive_step('ConfigureRobot', \n",
    "                                      #  instrument=OT2Specialization.EQUIPMENT['p20_single_gen2'],\n",
    "                                      instrument=p20,\n",
    "                                       mount='left')\n",
    "thermocycler_module = protocol.primitive_step('ConfigureRobot',\n",
    "                                              instrument=thermocycler,\n",
    "                                            #   instrument=OT2Specialization.EQUIPMENT['thermocycler'],\n",
    "                                              mount='7')\n",
    "tiprack = protocol.primitive_step('LoadRackOnInstrument',\n",
    "                                  rack=spec_tiprack,\n",
    "                                  coordinates='1')\n",
    "load_reagent_plate = protocol.primitive_step('LoadRackOnInstrument',\n",
    "                                             rack=spec_reagent_plate,\n",
    "                                             coordinates='4')\n",
    "load_destination_plate = protocol.primitive_step('LoadContainerOnInstrument',\n",
    "                                                 specification=spec_destination_plate,\n",
    "                                                 instrument=thermocycler,\n",
    "                                                #  instrument=OT2Specialization.EQUIPMENT['thermocycler'],\n",
    "                                                 slots='A1:H12') # 96 wells"
   ]
  },
  {
   "cell_type": "code",
   "execution_count": 10,
   "metadata": {},
   "outputs": [],
   "source": [
    "# Set up target samples\n",
    "assembly_reaction = protocol.primitive_step('PlateCoordinates',\n",
    "                                            source=destination_plate.output_pin('samples'),\n",
    "                                            coordinates='A1:H1')\n",
    "negative_control = protocol.primitive_step('PlateCoordinates',\n",
    "                                           source=destination_plate.output_pin('samples'),\n",
    "                                           coordinates='A2:H2')"
   ]
  },
  {
   "cell_type": "code",
   "execution_count": 11,
   "metadata": {},
   "outputs": [],
   "source": [
    "# Set up reagents - assuming reagents are loaded onto reagent plate manually\n",
    "master_mix_well = protocol.primitive_step('PlateCoordinates',\n",
    "                                          source=reagent_plate.output_pin('samples'),\n",
    "                                          coordinates='A1')\n",
    "dh2o_well = protocol.primitive_step('PlateCoordinates',\n",
    "                                    source=reagent_plate.output_pin('samples'),\n",
    "                                    coordinates='A2')\n",
    "dna_frag1_well = protocol.primitive_step('PlateCoordinates',\n",
    "                                         source=reagent_plate.output_pin('samples'),\n",
    "                                         coordinates='A3')\n",
    "dna_frag2_well = protocol.primitive_step('PlateCoordinates',\n",
    "                                         source=reagent_plate.output_pin('samples'),\n",
    "                                         coordinates='A4')"
   ]
  },
  {
   "cell_type": "code",
   "execution_count": 12,
   "metadata": {},
   "outputs": [],
   "source": [
    "# Protocol\n",
    "# does the 'Transfer' primitive step automatically change tip?\n",
    "\n",
    "# hold = protocol.primitive_step('Hold',\n",
    "#                                location=thermocycler,\n",
    "#                                temperature=sbol3.Measure(4.0,tyto.OM.degree_Celsius))\n",
    "# hold.name = '1. Set thermocycler to hold at 4 degrees Celsius while setting up assembly reaction and negative control'\n",
    "\n",
    "# 'Hold' primitive step isn't defined for OT2Specialization, so gotta improvise with 'PCR'\n",
    "# pcr = protocol.primitive_step('PCR',\n",
    "#                               denaturation_temp=sbol3.Measure(0, tyto.OM.degree_Celsius),\n",
    "#                               denaturation_time=sbol3.Measure(0, tyto.OM.minute),\n",
    "#                               annealing_temp=sbol3.Measure(0, tyto.OM.degree_Celsius),\n",
    "#                               annealing_time=sbol3.Measure(0, tyto.OM.second),\n",
    "#                               extension_temp=sbol3.Measure(0, tyto.OM.degree_Celsius),\n",
    "#                               extension_time=sbol3.Measure(0, tyto.OM.second),\n",
    "#                               cycles=1)\n",
    "# pcr.name = '1. Hold at 4 degrees Celsius'\n",
    "\n",
    "transfer = protocol.primitive_step('Transfer',\n",
    "                                   source=dh2o_well.output_pin('samples'),\n",
    "                                   destination=assembly_reaction.output_pin('samples'),\n",
    "                                   amount=sbol3.Measure(10,tyto.OM.microliter))\n",
    "transfer.name = '2. Add deionized H2O for assembly reaction (first transfer)'\n",
    "\n",
    "transfer = protocol.primitive_step('Transfer',\n",
    "                                   source=dh2o_well.output_pin('samples'),\n",
    "                                   destination=assembly_reaction.output_pin('samples'),\n",
    "                                   amount=sbol3.Measure(6,tyto.OM.microliter))\n",
    "transfer.name = '2. Add deionized H2O for assembly reaction (second transfer)'\n",
    "\n",
    "transfer = protocol.primitive_step('Transfer',\n",
    "                                   source=dh2o_well.output_pin('samples'),\n",
    "                                   destination=negative_control.output_pin('samples'),\n",
    "                                   amount=sbol3.Measure(10,tyto.OM.microliter))\n",
    "transfer.name = '3. Add deionized H2O for negative control (first transfer)'\n",
    "\n",
    "transfer = protocol.primitive_step('Transfer',\n",
    "                                   source=dh2o_well.output_pin('samples'),\n",
    "                                   destination=negative_control.output_pin('samples'),\n",
    "                                   amount=sbol3.Measure(6,tyto.OM.microliter))\n",
    "transfer.name = '3. Add deionized H2O for negative control (second transfer)'\n",
    "\n",
    "transfer = protocol.primitive_step('Transfer',\n",
    "                                   source=master_mix_well.output_pin('samples'),\n",
    "                                   destination=assembly_reaction.output_pin('samples'),\n",
    "                                   amount=sbol3.Measure(10,tyto.OM.microliter))\n",
    "transfer.name = '4. Add Gibson Assembly Master Mix for assembly reaction (first transfer)'\n",
    "\n",
    "transfer = protocol.primitive_step('Transfer',\n",
    "                                   source=master_mix_well.output_pin('samples'),\n",
    "                                   destination=assembly_reaction.output_pin('samples'),\n",
    "                                   amount=sbol3.Measure(10,tyto.OM.microliter))\n",
    "transfer.name = '4. Add Gibson Assembly Master Mix for assembly reaction (second transfer)'\n",
    "\n",
    "\n",
    "transfer = protocol.primitive_step('Transfer',\n",
    "                                   source=dh2o_well.output_pin('samples'),\n",
    "                                   destination=negative_control.output_pin('samples'),\n",
    "                                   amount=sbol3.Measure(10,tyto.OM.microliter))\n",
    "transfer.name = '5. Add deionized H2O instead of Gibson Assembly Master Mix for negative control (first transfer)'\n",
    "\n",
    "transfer = protocol.primitive_step('Transfer',\n",
    "                                   source=dh2o_well.output_pin('samples'),\n",
    "                                   destination=negative_control.output_pin('samples'),\n",
    "                                   amount=sbol3.Measure(10,tyto.OM.microliter))\n",
    "transfer.name = '5. Add deionized H2O instead of Gibson Assembly Master Mix for negative control (second transfer)'\n",
    "\n",
    "transfer = protocol.primitive_step('Transfer',\n",
    "                                   source=dna_frag1_well.output_pin('samples'),\n",
    "                                   destination=assembly_reaction.output_pin('samples'),\n",
    "                                   amount=sbol3.Measure(2,tyto.OM.microliter))\n",
    "transfer.name = '6. Add DNA fragment 1 for assembly reaction'\n",
    "\n",
    "transfer = protocol.primitive_step('Transfer',\n",
    "                                   source=dna_frag1_well.output_pin('samples'),\n",
    "                                   destination=negative_control.output_pin('samples'),\n",
    "                                   amount=sbol3.Measure(2,tyto.OM.microliter))\n",
    "transfer.name = '7. Add DNA fragment 1 for negative control'\n",
    "\n",
    "transfer = protocol.primitive_step('Transfer',\n",
    "                                   source=dna_frag2_well.output_pin('samples'),\n",
    "                                   destination=assembly_reaction.output_pin('samples'),\n",
    "                                   amount=sbol3.Measure(2,tyto.OM.microliter))\n",
    "transfer.name = '8. Add DNA fragment 2 for assembly reaction'\n",
    "\n",
    "transfer = protocol.primitive_step('Transfer',\n",
    "                                   source=dna_frag2_well.output_pin('samples'),\n",
    "                                   destination=negative_control.output_pin('samples'),\n",
    "                                   amount=sbol3.Measure(2,tyto.OM.microliter))\n",
    "transfer.name = '9. Add DNA fragment 2 for negative control'\n",
    "\n",
    "# # how to accommodate mixing 20uL (half of total volume) if pipette tip max is 10uL\n",
    "# mix = protocol.primitive_step('PipetteMix',\n",
    "#                               samples=assembly_reaction.output_pin('samples'),\n",
    "#                               amount=sbol3.Measure(10,tyto.OM.microliter),\n",
    "#                               cycleCount=5)\n",
    "# mix.name = '10. Mix 5 times'\n",
    "\n",
    "# incubate = protocol.primitive_step('Incubate',\n",
    "#                                    location=thermocycler,\n",
    "#                                    duration=sbol3.Measure(15,tyto.OM.minute),\n",
    "#                                    temperature=sbol3.Measure(50,tyto.OM.degree_Celsius))\n",
    "# incubate.name = 'Incubate at 50 degrees Celsius for 15 minutes'\n",
    "\n",
    "# pcr = protocol.primitive_step('PCR',\n",
    "#                               denaturation_temp=sbol3.Measure(98.0, tyto.OM.degree_Celsius),\n",
    "#                               denaturation_time=sbol3.Measure(10, tyto.OM.second),\n",
    "#                               annealing_temp=sbol3.Measure(45.0, tyto.OM.degree_Celsius),\n",
    "#                               annealing_time=sbol3.Measure(5, tyto.OM.second),\n",
    "#                               extension_temp=sbol3.Measure(65.0, tyto.OM.degree_Celsius),\n",
    "#                               extension_time=sbol3.Measure(60, tyto.OM.second),\n",
    "#                               cycles=30)\n",
    "# pcr.name = 'test pcr primitive step'\n",
    "# pcr = protocol.primitive_step('PCR',\n",
    "#                               denaturation_temp=sbol3.Measure(50, tyto.OM.degree_Celsius),\n",
    "#                               denaturation_time=sbol3.Measure(15, tyto.OM.minute),\n",
    "#                               annealing_temp=sbol3.Measure(0, tyto.OM.degree_Celsius),\n",
    "#                               annealing_time=sbol3.Measure(0, tyto.OM.second),\n",
    "#                               extension_temp=sbol3.Measure(0, tyto.OM.degree_Celsius),\n",
    "#                               extension_time=sbol3.Measure(0, tyto.OM.second),\n",
    "#                               cycles=1)\n",
    "# pcr.name = '11. Incubate at 50 degrees Celsius for 15 minutes'"
   ]
  },
  {
   "cell_type": "code",
   "execution_count": 13,
   "metadata": {},
   "outputs": [],
   "source": [
    "# out_dir = os.path.join(os.path.abspath(\"\"), \"test\")\n",
    "# if not os.path.exists(out_dir):\n",
    "#     os.mkdir(out_dir)\n",
    "\n",
    "# protocol.to_dot().render(filename=os.path.join(out_dir,protocol.display_name), format='png')\n",
    "\n",
    "# Image(os.path.join(out_dir, protocol.display_name+\".png\"))"
   ]
  },
  {
   "cell_type": "code",
   "execution_count": 14,
   "metadata": {},
   "outputs": [
    {
     "name": "stderr",
     "output_type": "stream",
     "text": [
      "WARNING:/Users/jeytse/BMEY3_LabAutomationGroupProject/labOP_env/lib/python3.10/site-packages/labop_convert/behavior_specialization.py:'ContainerSpec' object has no attribute 'addl_conditions'\n",
      "WARNING:/Users/jeytse/BMEY3_LabAutomationGroupProject/labOP_env/lib/python3.10/site-packages/labop_convert/behavior_specialization.py:Cannot resolve container specification using remote ontology server. Defaulting to static ontology copy\n",
      "WARNING:/Users/jeytse/BMEY3_LabAutomationGroupProject/labOP_env/lib/python3.10/site-packages/labop_convert/behavior_specialization.py:'ContainerSpec' object has no attribute 'addl_conditions'\n",
      "WARNING:/Users/jeytse/BMEY3_LabAutomationGroupProject/labOP_env/lib/python3.10/site-packages/labop_convert/behavior_specialization.py:Cannot resolve container specification using remote ontology server. Defaulting to static ontology copy\n",
      "WARNING:/Users/jeytse/BMEY3_LabAutomationGroupProject/labOP_env/lib/python3.10/site-packages/labop_convert/behavior_specialization.py:'ContainerSpec' object has no attribute 'addl_conditions'\n",
      "WARNING:/Users/jeytse/BMEY3_LabAutomationGroupProject/labOP_env/lib/python3.10/site-packages/labop_convert/behavior_specialization.py:Cannot resolve container specification using remote ontology server. Defaulting to static ontology copy\n",
      "WARNING:/Users/jeytse/BMEY3_LabAutomationGroupProject/labOP_env/lib/python3.10/site-packages/labop_convert/behavior_specialization.py:<class 'labop_convert.opentrons.opentrons_specialization.OT2Specialization'> Could not process() ActivityNodeException: CallBehaviorExecution15: 'pipette'\n",
      "ERROR:/Users/jeytse/BMEY3_LabAutomationGroupProject/labOP_env/lib/python3.10/site-packages/labop/execution_engine_utils.py:Could Not Process https://bmey3labautomation.com/test_execution/CallBehaviorExecution15: 'pipette'\n",
      "WARNING:/Users/jeytse/BMEY3_LabAutomationGroupProject/labOP_env/lib/python3.10/site-packages/labop_convert/behavior_specialization.py:<class 'labop_convert.opentrons.opentrons_specialization.OT2Specialization'> Could not process() ActivityNodeException: CallBehaviorExecution16: 'pipette'\n",
      "ERROR:/Users/jeytse/BMEY3_LabAutomationGroupProject/labOP_env/lib/python3.10/site-packages/labop/execution_engine_utils.py:Could Not Process https://bmey3labautomation.com/test_execution/CallBehaviorExecution16: 'pipette'\n",
      "WARNING:/Users/jeytse/BMEY3_LabAutomationGroupProject/labOP_env/lib/python3.10/site-packages/labop_convert/behavior_specialization.py:<class 'labop_convert.opentrons.opentrons_specialization.OT2Specialization'> Could not process() ActivityNodeException: CallBehaviorExecution17: 'pipette'\n",
      "ERROR:/Users/jeytse/BMEY3_LabAutomationGroupProject/labOP_env/lib/python3.10/site-packages/labop/execution_engine_utils.py:Could Not Process https://bmey3labautomation.com/test_execution/CallBehaviorExecution17: 'pipette'\n",
      "WARNING:/Users/jeytse/BMEY3_LabAutomationGroupProject/labOP_env/lib/python3.10/site-packages/labop_convert/behavior_specialization.py:<class 'labop_convert.opentrons.opentrons_specialization.OT2Specialization'> Could not process() ActivityNodeException: CallBehaviorExecution18: 'pipette'\n",
      "ERROR:/Users/jeytse/BMEY3_LabAutomationGroupProject/labOP_env/lib/python3.10/site-packages/labop/execution_engine_utils.py:Could Not Process https://bmey3labautomation.com/test_execution/CallBehaviorExecution18: 'pipette'\n",
      "WARNING:/Users/jeytse/BMEY3_LabAutomationGroupProject/labOP_env/lib/python3.10/site-packages/labop_convert/behavior_specialization.py:<class 'labop_convert.opentrons.opentrons_specialization.OT2Specialization'> Could not process() ActivityNodeException: CallBehaviorExecution19: 'pipette'\n",
      "ERROR:/Users/jeytse/BMEY3_LabAutomationGroupProject/labOP_env/lib/python3.10/site-packages/labop/execution_engine_utils.py:Could Not Process https://bmey3labautomation.com/test_execution/CallBehaviorExecution19: 'pipette'\n",
      "WARNING:/Users/jeytse/BMEY3_LabAutomationGroupProject/labOP_env/lib/python3.10/site-packages/labop_convert/behavior_specialization.py:<class 'labop_convert.opentrons.opentrons_specialization.OT2Specialization'> Could not process() ActivityNodeException: CallBehaviorExecution20: 'pipette'\n",
      "ERROR:/Users/jeytse/BMEY3_LabAutomationGroupProject/labOP_env/lib/python3.10/site-packages/labop/execution_engine_utils.py:Could Not Process https://bmey3labautomation.com/test_execution/CallBehaviorExecution20: 'pipette'\n",
      "WARNING:/Users/jeytse/BMEY3_LabAutomationGroupProject/labOP_env/lib/python3.10/site-packages/labop_convert/behavior_specialization.py:<class 'labop_convert.opentrons.opentrons_specialization.OT2Specialization'> Could not process() ActivityNodeException: CallBehaviorExecution21: 'pipette'\n",
      "ERROR:/Users/jeytse/BMEY3_LabAutomationGroupProject/labOP_env/lib/python3.10/site-packages/labop/execution_engine_utils.py:Could Not Process https://bmey3labautomation.com/test_execution/CallBehaviorExecution21: 'pipette'\n",
      "WARNING:/Users/jeytse/BMEY3_LabAutomationGroupProject/labOP_env/lib/python3.10/site-packages/labop_convert/behavior_specialization.py:<class 'labop_convert.opentrons.opentrons_specialization.OT2Specialization'> Could not process() ActivityNodeException: CallBehaviorExecution22: 'pipette'\n",
      "ERROR:/Users/jeytse/BMEY3_LabAutomationGroupProject/labOP_env/lib/python3.10/site-packages/labop/execution_engine_utils.py:Could Not Process https://bmey3labautomation.com/test_execution/CallBehaviorExecution22: 'pipette'\n",
      "WARNING:/Users/jeytse/BMEY3_LabAutomationGroupProject/labOP_env/lib/python3.10/site-packages/labop_convert/behavior_specialization.py:<class 'labop_convert.opentrons.opentrons_specialization.OT2Specialization'> Could not process() ActivityNodeException: CallBehaviorExecution23: 'pipette'\n",
      "ERROR:/Users/jeytse/BMEY3_LabAutomationGroupProject/labOP_env/lib/python3.10/site-packages/labop/execution_engine_utils.py:Could Not Process https://bmey3labautomation.com/test_execution/CallBehaviorExecution23: 'pipette'\n",
      "WARNING:/Users/jeytse/BMEY3_LabAutomationGroupProject/labOP_env/lib/python3.10/site-packages/labop_convert/behavior_specialization.py:<class 'labop_convert.opentrons.opentrons_specialization.OT2Specialization'> Could not process() ActivityNodeException: CallBehaviorExecution24: 'pipette'\n",
      "ERROR:/Users/jeytse/BMEY3_LabAutomationGroupProject/labOP_env/lib/python3.10/site-packages/labop/execution_engine_utils.py:Could Not Process https://bmey3labautomation.com/test_execution/CallBehaviorExecution24: 'pipette'\n",
      "WARNING:/Users/jeytse/BMEY3_LabAutomationGroupProject/labOP_env/lib/python3.10/site-packages/labop_convert/behavior_specialization.py:<class 'labop_convert.opentrons.opentrons_specialization.OT2Specialization'> Could not process() ActivityNodeException: CallBehaviorExecution25: 'pipette'\n",
      "ERROR:/Users/jeytse/BMEY3_LabAutomationGroupProject/labOP_env/lib/python3.10/site-packages/labop/execution_engine_utils.py:Could Not Process https://bmey3labautomation.com/test_execution/CallBehaviorExecution25: 'pipette'\n",
      "WARNING:/Users/jeytse/BMEY3_LabAutomationGroupProject/labOP_env/lib/python3.10/site-packages/labop_convert/behavior_specialization.py:<class 'labop_convert.opentrons.opentrons_specialization.OT2Specialization'> Could not process() ActivityNodeException: CallBehaviorExecution26: 'pipette'\n",
      "ERROR:/Users/jeytse/BMEY3_LabAutomationGroupProject/labOP_env/lib/python3.10/site-packages/labop/execution_engine_utils.py:Could Not Process https://bmey3labautomation.com/test_execution/CallBehaviorExecution26: 'pipette'\n"
     ]
    },
    {
     "name": "stdout",
     "output_type": "stream",
     "text": [
      "Successful execution. Script dumped to ot2_gibson_labop.\n"
     ]
    }
   ],
   "source": [
    "filename = 'ot2_gibson_labop'\n",
    "# filename = os.path.join(out_dir, \"ot2_gibson_assembly_labop\") # out_dir currently points to test\n",
    "agent = sbol3.Agent('ot2_machine', name='OT2 machine')\n",
    "ee = ExecutionEngine(specializations=[OT2Specialization(filename)])\n",
    "parameter_values = []\n",
    "execution = ee.execute(protocol, agent, id='test_execution')"
   ]
  }
 ],
 "metadata": {
  "kernelspec": {
   "display_name": "labOP_env",
   "language": "python",
   "name": "python3"
  },
  "language_info": {
   "codemirror_mode": {
    "name": "ipython",
    "version": 3
   },
   "file_extension": ".py",
   "mimetype": "text/x-python",
   "name": "python",
   "nbconvert_exporter": "python",
   "pygments_lexer": "ipython3",
   "version": "3.10.0"
  },
  "orig_nbformat": 4,
  "vscode": {
   "interpreter": {
    "hash": "7f7172b19abcdd4ad2180ded8ce592d94944104b9debf83e6c1037aff62c6a1e"
   }
  }
 },
 "nbformat": 4,
 "nbformat_minor": 2
}
