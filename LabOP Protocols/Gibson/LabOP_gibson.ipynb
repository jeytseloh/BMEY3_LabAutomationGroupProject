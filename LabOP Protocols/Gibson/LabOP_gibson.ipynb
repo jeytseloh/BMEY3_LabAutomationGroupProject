{
 "cells": [
  {
   "attachments": {},
   "cell_type": "markdown",
   "metadata": {},
   "source": [
    "The Gibson Assembly® Protocol below is obtained from the New England Biolabs (NEB).\n",
    "DOI: https://dx.doi.org/10.17504/protocols.io.bdddi226"
   ]
  },
  {
   "cell_type": "code",
   "execution_count": 38,
   "metadata": {},
   "outputs": [],
   "source": [
    "import labop\n",
    "from labop.execution_engine import ExecutionEngine\n",
    "from labop_convert.opentrons.opentrons_specialization import OT2Specialization\n",
    "from labop.utils.opentrons import run_ot2_sim, make_demo_script\n",
    "from labop_convert.markdown.markdown_specialization import MarkdownSpecialization\n",
    "\n",
    "import sbol3\n",
    "import uml\n",
    "import tyto\n",
    "import json\n",
    "import csv\n",
    "import rdflib as rdfl\n",
    "from IPython.display import Markdown, IFrame, Image\n",
    "\n",
    "import os\n",
    "\n",
    "# Set up our working directory for protocol files\n",
    "out_dir = os.path.join(os.path.abspath(''), 'out')\n",
    "if not os.path.exists(out_dir):\n",
    "    os.mkdir(out_dir)"
   ]
  },
  {
   "cell_type": "code",
   "execution_count": 39,
   "metadata": {},
   "outputs": [
    {
     "name": "stdout",
     "output_type": "stream",
     "text": [
      "Setting up the document\n",
      "Importing the libraries\n",
      "...Imported liquid handling\n",
      "...Imported plate handling\n",
      "...Imported spectrophotometry\n",
      "...Imported sample arrays\n",
      "Creating protocol\n"
     ]
    },
    {
     "data": {
      "text/plain": [
       "<sbol_factory.sbol_factory.Protocol at 0x136566650>"
      ]
     },
     "execution_count": 39,
     "metadata": {},
     "output_type": "execute_result"
    }
   ],
   "source": [
    "# Setting up the document\n",
    "# Set up the document\n",
    "print('Setting up the document')\n",
    "doc = sbol3.Document()\n",
    "sbol3.set_namespace('http://bbn.com/synbio') # not sure what to put for namespace !!\n",
    "\n",
    "# Import the primitive libraries\n",
    "print('Importing the libraries')\n",
    "labop.import_library('liquid_handling')\n",
    "print('...Imported liquid handling')\n",
    "labop.import_library('plate_handling')\n",
    "print('...Imported plate handling')\n",
    "labop.import_library('spectrophotometry')\n",
    "print('...Imported spectrophotometry')\n",
    "labop.import_library('sample_arrays')\n",
    "print('...Imported sample arrays')\n",
    "\n",
    "# Create the protocol\n",
    "print('Creating protocol')\n",
    "protocol = labop.Protocol('OT2_GibsonAssembly')\n",
    "protocol.name = 'OT2 Gibson Assembly'\n",
    "protocol.description = '''\n",
    "This protocol is for Gibson Assembly of DNA fragments into plasmids using the New England Biolabs\n",
    "Gibson Assembly® Protocol (E5510).\n",
    "The protocol implements the specific case of 2-3 fragment assembly:\n",
    "https://international.neb.com/protocols/2012/12/11/gibson-assembly-protocol-e5510\n",
    "'''\n",
    "doc.add(protocol)"
   ]
  },
  {
   "attachments": {},
   "cell_type": "markdown",
   "metadata": {},
   "source": [
    "GIBSON ASSEMBLY PROCESS MAPPING\n",
    "- P20 Single GEN2 / P20 Multi GEN2 (1-20uL) since total volume of reaction is 20uL and assembly reaction required in transformation is only 2uL\n",
    "- "
   ]
  },
  {
   "cell_type": "code",
   "execution_count": 40,
   "metadata": {},
   "outputs": [
    {
     "data": {
      "text/plain": [
       "<sbol3.component.Component at 0x13624fd00>"
      ]
     },
     "execution_count": 40,
     "metadata": {},
     "output_type": "execute_result"
    }
   ],
   "source": [
    "# Create the materials to be provisioned\n",
    "\n",
    "CONT_NS = rdfl.Namespace('https://sift.net/container-ontology/container-ontology#')\n",
    "OM_NS = rdfl.Namespace('http://www.ontology-of-units-of-measure.org/resource/om-2/')\n",
    "\n",
    "PREFIX_MAP = json.dumps({\"cont\": CONT_NS, \"om\": OM_NS})\n",
    "\n",
    "d_h20 = sbol3.Component('deionized_H2O', '') # add identifier for deionized water\n",
    "d_h20.name = 'Deionized Water'\n",
    "doc.add(d_h20)\n",
    "\n",
    "gib_mix = sbol3.Component('NEB_Gibson_AssemblyMasterMix', tyto.SBO.functional_entity)\n",
    "gib_mix.name = 'NEB Gibson Assembly Master Mix'\n",
    "gib_mix.derived_from.append('https://international.neb.com/products/e5510-gibson-assembly-cloning-kit#Product%20Information')\n",
    "doc.add(gib_mix)"
   ]
  },
  {
   "cell_type": "code",
   "execution_count": 41,
   "metadata": {},
   "outputs": [],
   "source": [
    "# Configure OT2 and load with labware\n",
    "p20 = sbol3.Agent('p20_single_gen2', name='P20 Single GEN2')\n",
    "doc.add(p20)\n",
    "\n",
    "# not sure about the mounts !!\n",
    "load = protocol.primitive_step('ConfigureRobot', instrument=OT2Specialization.EQUIPMENT['p20_single_gen2'], mount='left')\n",
    "load = protocol.primitive_step('ConfigureRobot', instrument=OT2Specialization.EQUIPMENT['thermocycler'], mount='7')\n",
    "tiprack_spec = labop.ContainerSpec('tiprack', \n",
    "                                   queryString='cont:Opentrons96TipRack300uL') # is this comaptible with P20 - 20uL tips?\n",
    "load = protocol.primitive_step('LoadRackOnInstrument', rack=tiprack_spec, coordinates='1')\n",
    "# only see 10uL, 300uL, 1000uL w/o filter and 10uL, 200uL, 1000uL w filter in container-ontology.ttl\n",
    "\n",
    "# Specify layout of DNA source plate and build plate\n",
    "dna_sources = protocol.input_value('source_samples', 'http://bioprotocols.org/labop#SampleCollection')\n",
    "dna_build_layout = protocol.input_value('build_layout', 'http://bioprotocols.org/labop#SampleData')\n",
    "\n",
    "# Set up plate for building\n",
    "build_wells = protocol.primitive_step('DuplicateCollection', source=dna_build_layout)\n",
    "\n",
    "# Set up plate with reaction\n",
    "# reaction_plate = labop.ContainerSpec('reaction_plate', \n",
    "#                                      name='Reaction in 96-well plate',\n",
    "#                                      queryString='cont:Corning96WellPlate360uLFlat',\n",
    "#                                      prefixMap=PREFIX_MAP)\n",
    "# load = protocol.primitive_step('LoadRackOnInstrument', rack=reaction_plate, coordinates='3')\n",
    "# reaction_plate = protocol.primitive_step('EmptyContainer', specification=reaction_plate)\n"
   ]
  },
  {
   "cell_type": "code",
   "execution_count": 43,
   "metadata": {},
   "outputs": [
    {
     "ename": "ValueError",
     "evalue": "Could not find input pin named resource for Primitive Transfer",
     "output_type": "error",
     "traceback": [
      "\u001b[0;31m---------------------------------------------------------------------------\u001b[0m",
      "\u001b[0;31mValueError\u001b[0m                                Traceback (most recent call last)",
      "Cell \u001b[0;32mIn[43], line 3\u001b[0m\n\u001b[1;32m      1\u001b[0m \u001b[39m# Transfer DNA fragments into selected wells according to build plan\u001b[39;00m\n\u001b[1;32m      2\u001b[0m \u001b[39m# protocol.primitive_step('TransferByMap', source=dna_sources, destination=build_wells.output_pin('samples'), plan=dna_build_layout)\u001b[39;00m\n\u001b[0;32m----> 3\u001b[0m transfer \u001b[39m=\u001b[39m protocol\u001b[39m.\u001b[39;49mprimitive_step(\u001b[39m'\u001b[39;49m\u001b[39mTransfer\u001b[39;49m\u001b[39m'\u001b[39;49m, resource\u001b[39m=\u001b[39;49mdna_sources, destination\u001b[39m=\u001b[39;49mbuild_wells\u001b[39m.\u001b[39;49moutput_pin(\u001b[39m'\u001b[39;49m\u001b[39msamples\u001b[39;49m\u001b[39m'\u001b[39;49m),\n\u001b[1;32m      4\u001b[0m                                    amount\u001b[39m=\u001b[39;49msbol3\u001b[39m.\u001b[39;49mMeasure(\u001b[39m5\u001b[39;49m, tyto\u001b[39m.\u001b[39;49mOM\u001b[39m.\u001b[39;49mmicroliter))\n\u001b[1;32m      5\u001b[0m \u001b[39m# unsure about the volume of DNA fragments cuz NEB says 0.2-0.5pmols * XuL\u001b[39;00m\n\u001b[1;32m      6\u001b[0m transfer\u001b[39m.\u001b[39mname \u001b[39m=\u001b[39m \u001b[39m'\u001b[39m\u001b[39mAdd DNA fragments\u001b[39m\u001b[39m'\u001b[39m\n",
      "File \u001b[0;32m~/BMEY3_LabAutomationGroupProject/labOP_env/lib/python3.10/site-packages/labop/__init__.py:81\u001b[0m, in \u001b[0;36mprotocol_primitive_step\u001b[0;34m(self, primitive, **input_pin_map)\u001b[0m\n\u001b[1;32m     72\u001b[0m \u001b[39mdef\u001b[39;00m \u001b[39mprotocol_primitive_step\u001b[39m(\u001b[39mself\u001b[39m, primitive: Primitive, \u001b[39m*\u001b[39m\u001b[39m*\u001b[39minput_pin_map):\n\u001b[1;32m     73\u001b[0m \u001b[39m    \u001b[39m\u001b[39m\"\"\"Use a Primitive as an Action in a Protocol, automatically serialized to follow the last step added\u001b[39;00m\n\u001b[1;32m     74\u001b[0m \n\u001b[1;32m     75\u001b[0m \u001b[39m    Note that this will not give a stable order if adding to a Protocol that has been deserialized, since\u001b[39;00m\n\u001b[0;32m   (...)\u001b[0m\n\u001b[1;32m     79\u001b[0m \u001b[39m    :return: CallBehaviorAction that invokes the Primitive\u001b[39;00m\n\u001b[1;32m     80\u001b[0m \u001b[39m    \"\"\"\u001b[39;00m\n\u001b[0;32m---> 81\u001b[0m     pe \u001b[39m=\u001b[39m \u001b[39mself\u001b[39;49m\u001b[39m.\u001b[39;49mexecute_primitive(primitive, \u001b[39m*\u001b[39;49m\u001b[39m*\u001b[39;49minput_pin_map)\n\u001b[1;32m     82\u001b[0m     \u001b[39mself\u001b[39m\u001b[39m.\u001b[39morder(\u001b[39mself\u001b[39m\u001b[39m.\u001b[39mget_last_step(), pe)\n\u001b[1;32m     83\u001b[0m     \u001b[39mself\u001b[39m\u001b[39m.\u001b[39mlast_step \u001b[39m=\u001b[39m pe  \u001b[39m# update the last step\u001b[39;00m\n",
      "File \u001b[0;32m~/BMEY3_LabAutomationGroupProject/labOP_env/lib/python3.10/site-packages/labop/__init__.py:68\u001b[0m, in \u001b[0;36mprotocol_execute_primitive\u001b[0;34m(self, primitive, **input_pin_map)\u001b[0m\n\u001b[1;32m     66\u001b[0m \u001b[39mif\u001b[39;00m \u001b[39misinstance\u001b[39m(primitive, \u001b[39mstr\u001b[39m):\n\u001b[1;32m     67\u001b[0m     primitive \u001b[39m=\u001b[39m get_primitive(\u001b[39mself\u001b[39m\u001b[39m.\u001b[39mdocument, primitive)\n\u001b[0;32m---> 68\u001b[0m \u001b[39mreturn\u001b[39;00m \u001b[39mself\u001b[39;49m\u001b[39m.\u001b[39;49mcall_behavior(primitive, \u001b[39m*\u001b[39;49m\u001b[39m*\u001b[39;49minput_pin_map)\n",
      "File \u001b[0;32m~/BMEY3_LabAutomationGroupProject/labOP_env/lib/python3.10/site-packages/uml/__init__.py:545\u001b[0m, in \u001b[0;36mactivity_call_behavior\u001b[0;34m(self, behavior, **input_pin_map)\u001b[0m\n\u001b[1;32m    543\u001b[0m \u001b[39m# add flows for activities being connected implicitly\u001b[39;00m\n\u001b[1;32m    544\u001b[0m \u001b[39mfor\u001b[39;00m name, source \u001b[39min\u001b[39;00m id_sort(activity_inputs\u001b[39m.\u001b[39mitems()):\n\u001b[0;32m--> 545\u001b[0m     \u001b[39mfor\u001b[39;00m pin \u001b[39min\u001b[39;00m cba\u001b[39m.\u001b[39;49minput_pins(name):\n\u001b[1;32m    546\u001b[0m         \u001b[39m#self.use_value(source, cba.input_pin(name))\u001b[39;00m\n\u001b[1;32m    547\u001b[0m         \u001b[39mself\u001b[39m\u001b[39m.\u001b[39muse_value(source, pin)\n\u001b[1;32m    548\u001b[0m \u001b[39mreturn\u001b[39;00m cba\n",
      "File \u001b[0;32m~/BMEY3_LabAutomationGroupProject/labOP_env/lib/python3.10/site-packages/uml/__init__.py:282\u001b[0m, in \u001b[0;36mcall_behavior_action_input_pins\u001b[0;34m(self, pin_name)\u001b[0m\n\u001b[1;32m    280\u001b[0m pin_set \u001b[39m=\u001b[39m {x \u001b[39mfor\u001b[39;00m x \u001b[39min\u001b[39;00m \u001b[39mself\u001b[39m\u001b[39m.\u001b[39minputs \u001b[39mif\u001b[39;00m x\u001b[39m.\u001b[39mname \u001b[39m==\u001b[39m pin_name}\n\u001b[1;32m    281\u001b[0m \u001b[39mif\u001b[39;00m \u001b[39mlen\u001b[39m(pin_set) \u001b[39m==\u001b[39m \u001b[39m0\u001b[39m:\n\u001b[0;32m--> 282\u001b[0m     \u001b[39mraise\u001b[39;00m \u001b[39mValueError\u001b[39;00m(\u001b[39mf\u001b[39m\u001b[39m'\u001b[39m\u001b[39mCould not find input pin named \u001b[39m\u001b[39m{\u001b[39;00mpin_name\u001b[39m}\u001b[39;00m\u001b[39m for Primitive \u001b[39m\u001b[39m{\u001b[39;00m\u001b[39mself\u001b[39m\u001b[39m.\u001b[39mbehavior\u001b[39m.\u001b[39mlookup()\u001b[39m.\u001b[39mdisplay_id\u001b[39m}\u001b[39;00m\u001b[39m'\u001b[39m)\n\u001b[1;32m    283\u001b[0m \u001b[39mreturn\u001b[39;00m pin_set\n",
      "\u001b[0;31mValueError\u001b[0m: Could not find input pin named resource for Primitive Transfer"
     ]
    }
   ],
   "source": [
    "# Transfer DNA fragments into selected wells according to build plan\n",
    "# protocol.primitive_step('TransferByMap', source=dna_sources, destination=build_wells.output_pin('samples'), plan=dna_build_layout)\n",
    "transfer = protocol.primitive_step('Transfer', resource=dna_sources, destination=build_wells.output_pin('samples'),\n",
    "                                   amount=sbol3.Measure(5, tyto.OM.microliter))\n",
    "# unsure about the volume of DNA fragments cuz NEB says 0.2-0.5pmols * XuL\n",
    "transfer.name = 'Add DNA fragments'\n",
    "\n",
    "# Transfer deionized H20 into build wells\n",
    "transfer = protocol.primitive_step('Transfer', resource=d_h20, destination=build_wells.output_pin('samples'),\n",
    "                        amount=sbol3.Measure(10, tyto.OM.microliter))\n",
    "transfer.name = 'Add deionized water'\n",
    "\n",
    "# Transfer Gibson Assembly Master Mix into build wells\n",
    "transfer = protocol.primitive_step('Transfer', resource=gib_mix, destination=build_wells.output_pin('samples'),\n",
    "                        amount=sbol3.Measure(10, tyto.OM.microliter))\n",
    "transfer.name = 'Add Gibson Assembly Master Mix'\n",
    "\n",
    "# Seal and spin to mix\n",
    "mix = protocol.primitive_step('Seal', location=build_wells.output_pin('samples'))\n",
    "mix.name = 'Seal tubes'\n",
    "mix = protocol.primitive_step('Spin', acceleration=sbol3.Measure(300, 'http://bioprotocols.org/temporary/unit/g'),\n",
    "                        duration=sbol3.Measure(3, tyto.OM.minute))\n",
    "mix.name = 'Spin to mix'\n",
    "mix = protocol.primitive_step('Unseal', location=build_wells.output_pin('samples'))\n",
    "mix.name = 'Unseal tubes'"
   ]
  },
  {
   "cell_type": "code",
   "execution_count": null,
   "metadata": {},
   "outputs": [],
   "source": [
    "# Incubation\n",
    "incubate = protocol.primitive_step('Incubate', location=build_wells.output_pin('samples'),\n",
    "                        duration=sbol3.Measure(15, tyto.OM.minute),\n",
    "                        temperature=sbol3.Measure(50, tyto.OM.degree_Celsius))\n",
    "incubate.name = 'Incubate'"
   ]
  },
  {
   "cell_type": "code",
   "execution_count": null,
   "metadata": {},
   "outputs": [],
   "source": [
    "# Execute the protocol\n",
    "filename = 'ot2_gibson_labop'\n",
    "agent = sbol3.Agent('ot2_machine', name='OT2 machine')\n",
    "ee = ExecutionEngine(specializations=[OT2Specialization(filename)], failsafe=False)\n",
    "parameterValues = []\n",
    "execution = ee.execute(protocol, agent, id='test_execution')"
   ]
  },
  {
   "cell_type": "code",
   "execution_count": null,
   "metadata": {},
   "outputs": [],
   "source": [
    "# Print markdown on execution\n",
    "print(execution.markdown)"
   ]
  },
  {
   "cell_type": "code",
   "execution_count": null,
   "metadata": {},
   "outputs": [],
   "source": [
    "# Print operator instructions\n",
    "Markdown(ee.specializations[0].markdown)"
   ]
  },
  {
   "cell_type": "code",
   "execution_count": null,
   "metadata": {},
   "outputs": [],
   "source": [
    "# Print OT2 script\n",
    "print(ee.specializations[0].script)"
   ]
  }
 ],
 "metadata": {
  "kernelspec": {
   "display_name": "labOP_env",
   "language": "python",
   "name": "python3"
  },
  "language_info": {
   "codemirror_mode": {
    "name": "ipython",
    "version": 3
   },
   "file_extension": ".py",
   "mimetype": "text/x-python",
   "name": "python",
   "nbconvert_exporter": "python",
   "pygments_lexer": "ipython3",
   "version": "3.10.0"
  },
  "orig_nbformat": 4,
  "vscode": {
   "interpreter": {
    "hash": "7f7172b19abcdd4ad2180ded8ce592d94944104b9debf83e6c1037aff62c6a1e"
   }
  }
 },
 "nbformat": 4,
 "nbformat_minor": 2
}
