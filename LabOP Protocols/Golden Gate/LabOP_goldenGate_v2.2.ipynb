{
 "cells": [
  {
   "attachments": {},
   "cell_type": "markdown",
   "metadata": {},
   "source": [
    "The 52-Fragment Golden Gate Assembly using BsaI-HF®v2 is obtained from the New England Biolabs (NEB).\n",
    "https://international.neb.com/protocols/2021/01/11/52-fragment-assembly-protocol-using-the-neb-golden-gate-assembly-kit-bsai-hfv2-neb-e1601\n",
    "\n",
    "v2.2 corresponds to the version of the process mapping document that can be found here:\n",
    "https://imperiallondon.sharepoint.com/:w:/s/3rdYearGroupProject-Group1-BM/EUCI6zyDKR5Mu8h0xdkCKxsBZIlt9H7fuby1bR6irCJORQ?e=fNtstf"
   ]
  },
  {
   "cell_type": "code",
   "execution_count": null,
   "metadata": {},
   "outputs": [],
   "source": []
  }
 ],
 "metadata": {
  "kernelspec": {
   "display_name": "labOP_env",
   "language": "python",
   "name": "python3"
  },
  "language_info": {
   "name": "python",
   "version": "3.10.0"
  },
  "orig_nbformat": 4,
  "vscode": {
   "interpreter": {
    "hash": "7f7172b19abcdd4ad2180ded8ce592d94944104b9debf83e6c1037aff62c6a1e"
   }
  }
 },
 "nbformat": 4,
 "nbformat_minor": 2
}
