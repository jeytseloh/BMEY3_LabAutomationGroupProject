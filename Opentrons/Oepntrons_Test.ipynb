{
 "cells": [
  {
   "cell_type": "code",
   "execution_count": null,
   "metadata": {},
   "outputs": [],
   "source": [
    "# Installing Opentrons and other necessary packages\n",
    "import sys\n",
    "!{sys.executable} -m pip install opentrons\n"
   ]
  },
  {
   "cell_type": "code",
   "execution_count": 10,
   "metadata": {},
   "outputs": [
    {
     "ename": "AttributeError",
     "evalue": "module 'asyncio' has no attribute 'coroutine'",
     "output_type": "error",
     "traceback": [
      "\u001b[0;31m---------------------------------------------------------------------------\u001b[0m",
      "\u001b[0;31mAttributeError\u001b[0m                            Traceback (most recent call last)",
      "Cell \u001b[0;32mIn[10], line 1\u001b[0m\n\u001b[0;32m----> 1\u001b[0m \u001b[39mfrom\u001b[39;00m \u001b[39mopentrons\u001b[39;00m \u001b[39mimport\u001b[39;00m protocol_api\n\u001b[1;32m      3\u001b[0m metadata \u001b[39m=\u001b[39m {\u001b[39m'\u001b[39m\u001b[39mapiLevel\u001b[39m\u001b[39m'\u001b[39m: \u001b[39m'\u001b[39m\u001b[39m2.13\u001b[39m\u001b[39m'\u001b[39m}\n\u001b[1;32m      5\u001b[0m \u001b[39mdef\u001b[39;00m \u001b[39mrun\u001b[39m(protocol: protocol_api\u001b[39m.\u001b[39mProtocolContext):\n",
      "File \u001b[0;32m/Library/Frameworks/Python.framework/Versions/3.11/lib/python3.11/site-packages/opentrons/__init__.py:11\u001b[0m\n\u001b[1;32m      8\u001b[0m \u001b[39mfrom\u001b[39;00m \u001b[39mtyping\u001b[39;00m \u001b[39mimport\u001b[39;00m Any, List, Tuple\n\u001b[1;32m     10\u001b[0m \u001b[39mfrom\u001b[39;00m \u001b[39mopentrons\u001b[39;00m\u001b[39m.\u001b[39;00m\u001b[39mdrivers\u001b[39;00m\u001b[39m.\u001b[39;00m\u001b[39mserial_communication\u001b[39;00m \u001b[39mimport\u001b[39;00m get_ports_by_name\n\u001b[0;32m---> 11\u001b[0m \u001b[39mfrom\u001b[39;00m \u001b[39mopentrons\u001b[39;00m\u001b[39m.\u001b[39;00m\u001b[39mhardware_control\u001b[39;00m \u001b[39mimport\u001b[39;00m (\n\u001b[1;32m     12\u001b[0m     API \u001b[39mas\u001b[39;00m HardwareAPI,\n\u001b[1;32m     13\u001b[0m     ThreadManager,\n\u001b[1;32m     14\u001b[0m     ThreadManagedHardware,\n\u001b[1;32m     15\u001b[0m )\n\u001b[1;32m     17\u001b[0m \u001b[39mfrom\u001b[39;00m \u001b[39mopentrons\u001b[39;00m\u001b[39m.\u001b[39;00m\u001b[39mconfig\u001b[39;00m \u001b[39mimport\u001b[39;00m (\n\u001b[1;32m     18\u001b[0m     feature_flags \u001b[39mas\u001b[39;00m ff,\n\u001b[1;32m     19\u001b[0m     name,\n\u001b[0;32m   (...)\u001b[0m\n\u001b[1;32m     22\u001b[0m     ROBOT_FIRMWARE_DIR,\n\u001b[1;32m     23\u001b[0m )\n\u001b[1;32m     24\u001b[0m \u001b[39mfrom\u001b[39;00m \u001b[39mopentrons\u001b[39;00m\u001b[39m.\u001b[39;00m\u001b[39mutil\u001b[39;00m \u001b[39mimport\u001b[39;00m logging_config\n",
      "File \u001b[0;32m/Library/Frameworks/Python.framework/Versions/3.11/lib/python3.11/site-packages/opentrons/hardware_control/__init__.py:14\u001b[0m\n\u001b[1;32m      1\u001b[0m \u001b[39m\"\"\"\u001b[39;00m\n\u001b[1;32m      2\u001b[0m \u001b[39mhardware_control: The sole authority for controlling the hardware of an OT2.\u001b[39;00m\n\u001b[1;32m      3\u001b[0m \n\u001b[0;32m   (...)\u001b[0m\n\u001b[1;32m     10\u001b[0m \u001b[39mfunctions are available elsewhere.\u001b[39;00m\n\u001b[1;32m     11\u001b[0m \u001b[39m\"\"\"\u001b[39;00m\n\u001b[1;32m     13\u001b[0m \u001b[39mfrom\u001b[39;00m \u001b[39m.\u001b[39;00m\u001b[39madapters\u001b[39;00m \u001b[39mimport\u001b[39;00m SynchronousAdapter\n\u001b[0;32m---> 14\u001b[0m \u001b[39mfrom\u001b[39;00m \u001b[39m.\u001b[39;00m\u001b[39mapi\u001b[39;00m \u001b[39mimport\u001b[39;00m API\n\u001b[1;32m     15\u001b[0m \u001b[39mfrom\u001b[39;00m \u001b[39m.\u001b[39;00m\u001b[39mpause_manager\u001b[39;00m \u001b[39mimport\u001b[39;00m PauseManager\n\u001b[1;32m     16\u001b[0m \u001b[39mfrom\u001b[39;00m \u001b[39m.\u001b[39;00m\u001b[39mbackends\u001b[39;00m \u001b[39mimport\u001b[39;00m Controller, Simulator\n",
      "File \u001b[0;32m/Library/Frameworks/Python.framework/Versions/3.11/lib/python3.11/site-packages/opentrons/hardware_control/api.py:33\u001b[0m\n\u001b[1;32m     28\u001b[0m \u001b[39mfrom\u001b[39;00m \u001b[39m.\u001b[39;00m\u001b[39mutil\u001b[39;00m \u001b[39mimport\u001b[39;00m use_or_initialize_loop, check_motion_bounds\n\u001b[1;32m     29\u001b[0m \u001b[39mfrom\u001b[39;00m \u001b[39m.\u001b[39;00m\u001b[39minstruments\u001b[39;00m\u001b[39m.\u001b[39;00m\u001b[39mpipette\u001b[39;00m \u001b[39mimport\u001b[39;00m (\n\u001b[1;32m     30\u001b[0m     generate_hardware_configs,\n\u001b[1;32m     31\u001b[0m     load_from_config_and_check_skip,\n\u001b[1;32m     32\u001b[0m )\n\u001b[0;32m---> 33\u001b[0m \u001b[39mfrom\u001b[39;00m \u001b[39m.\u001b[39;00m\u001b[39mbackends\u001b[39;00m \u001b[39mimport\u001b[39;00m Controller, Simulator\n\u001b[1;32m     34\u001b[0m \u001b[39mfrom\u001b[39;00m \u001b[39m.\u001b[39;00m\u001b[39mexecution_manager\u001b[39;00m \u001b[39mimport\u001b[39;00m ExecutionManagerProvider\n\u001b[1;32m     35\u001b[0m \u001b[39mfrom\u001b[39;00m \u001b[39m.\u001b[39;00m\u001b[39mpause_manager\u001b[39;00m \u001b[39mimport\u001b[39;00m PauseManager\n",
      "File \u001b[0;32m/Library/Frameworks/Python.framework/Versions/3.11/lib/python3.11/site-packages/opentrons/hardware_control/backends/__init__.py:1\u001b[0m\n\u001b[0;32m----> 1\u001b[0m \u001b[39mfrom\u001b[39;00m \u001b[39m.\u001b[39;00m\u001b[39mcontroller\u001b[39;00m \u001b[39mimport\u001b[39;00m Controller\n\u001b[1;32m      2\u001b[0m \u001b[39mfrom\u001b[39;00m \u001b[39m.\u001b[39;00m\u001b[39msimulator\u001b[39;00m \u001b[39mimport\u001b[39;00m Simulator\n\u001b[1;32m      4\u001b[0m \u001b[39m# only expose the ot2 interfaces in __init__ so everything works if opentrons_hardware\u001b[39;00m\n\u001b[1;32m      5\u001b[0m \u001b[39m# is not present\u001b[39;00m\n",
      "File \u001b[0;32m/Library/Frameworks/Python.framework/Versions/3.11/lib/python3.11/site-packages/opentrons/hardware_control/backends/controller.py:20\u001b[0m\n\u001b[1;32m     17\u001b[0m \u001b[39mfrom\u001b[39;00m \u001b[39mtyping_extensions\u001b[39;00m \u001b[39mimport\u001b[39;00m Final\n\u001b[1;32m     19\u001b[0m \u001b[39mtry\u001b[39;00m:\n\u001b[0;32m---> 20\u001b[0m     \u001b[39mimport\u001b[39;00m \u001b[39maionotify\u001b[39;00m  \u001b[39m# type: ignore[import]\u001b[39;00m\n\u001b[1;32m     21\u001b[0m \u001b[39mexcept\u001b[39;00m (\u001b[39mOSError\u001b[39;00m, \u001b[39mModuleNotFoundError\u001b[39;00m):\n\u001b[1;32m     22\u001b[0m     aionotify \u001b[39m=\u001b[39m \u001b[39mNone\u001b[39;00m\n",
      "File \u001b[0;32m/Library/Frameworks/Python.framework/Versions/3.11/lib/python3.11/site-packages/aionotify/__init__.py:5\u001b[0m\n\u001b[1;32m      1\u001b[0m \u001b[39m# Copyright (c) 2016 The aionotify project\u001b[39;00m\n\u001b[1;32m      2\u001b[0m \u001b[39m# This code is distributed under the two-clause BSD License.\u001b[39;00m\n\u001b[1;32m      4\u001b[0m \u001b[39mfrom\u001b[39;00m \u001b[39m.\u001b[39;00m\u001b[39menums\u001b[39;00m \u001b[39mimport\u001b[39;00m Flags\n\u001b[0;32m----> 5\u001b[0m \u001b[39mfrom\u001b[39;00m \u001b[39m.\u001b[39;00m\u001b[39mbase\u001b[39;00m \u001b[39mimport\u001b[39;00m Watcher\n\u001b[1;32m      7\u001b[0m __all__ \u001b[39m=\u001b[39m [\u001b[39m'\u001b[39m\u001b[39mFlags\u001b[39m\u001b[39m'\u001b[39m, \u001b[39m'\u001b[39m\u001b[39mWatcher\u001b[39m\u001b[39m'\u001b[39m]\n\u001b[1;32m      9\u001b[0m __version__ \u001b[39m=\u001b[39m \u001b[39m'\u001b[39m\u001b[39m0.2.0\u001b[39m\u001b[39m'\u001b[39m\n",
      "File \u001b[0;32m/Library/Frameworks/Python.framework/Versions/3.11/lib/python3.11/site-packages/aionotify/base.py:10\u001b[0m\n\u001b[1;32m      7\u001b[0m \u001b[39mimport\u001b[39;00m \u001b[39mctypes\u001b[39;00m\n\u001b[1;32m      8\u001b[0m \u001b[39mimport\u001b[39;00m \u001b[39mstruct\u001b[39;00m\n\u001b[0;32m---> 10\u001b[0m \u001b[39mfrom\u001b[39;00m \u001b[39m.\u001b[39;00m \u001b[39mimport\u001b[39;00m aioutils\n\u001b[1;32m     12\u001b[0m Event \u001b[39m=\u001b[39m collections\u001b[39m.\u001b[39mnamedtuple(\u001b[39m'\u001b[39m\u001b[39mEvent\u001b[39m\u001b[39m'\u001b[39m, [\u001b[39m'\u001b[39m\u001b[39mflags\u001b[39m\u001b[39m'\u001b[39m, \u001b[39m'\u001b[39m\u001b[39mcookie\u001b[39m\u001b[39m'\u001b[39m, \u001b[39m'\u001b[39m\u001b[39mname\u001b[39m\u001b[39m'\u001b[39m, \u001b[39m'\u001b[39m\u001b[39malias\u001b[39m\u001b[39m'\u001b[39m])\n\u001b[1;32m     15\u001b[0m _libc \u001b[39m=\u001b[39m ctypes\u001b[39m.\u001b[39mcdll\u001b[39m.\u001b[39mLoadLibrary(\u001b[39m'\u001b[39m\u001b[39mlibc.so.6\u001b[39m\u001b[39m'\u001b[39m)\n",
      "File \u001b[0;32m/Library/Frameworks/Python.framework/Versions/3.11/lib/python3.11/site-packages/aionotify/aioutils.py:122\u001b[0m\n\u001b[1;32m    114\u001b[0m         parts \u001b[39m=\u001b[39m [\n\u001b[1;32m    115\u001b[0m             \u001b[39mself\u001b[39m\u001b[39m.\u001b[39m\u001b[39m__class__\u001b[39m\u001b[39m.\u001b[39m\u001b[39m__name__\u001b[39m,\n\u001b[1;32m    116\u001b[0m             status,\n\u001b[1;32m    117\u001b[0m             \u001b[39m'\u001b[39m\u001b[39mfd=\u001b[39m\u001b[39m%s\u001b[39;00m\u001b[39m'\u001b[39m \u001b[39m%\u001b[39m \u001b[39mself\u001b[39m\u001b[39m.\u001b[39m_fileno,\n\u001b[1;32m    118\u001b[0m         ]\n\u001b[1;32m    119\u001b[0m         \u001b[39mreturn\u001b[39;00m \u001b[39m'\u001b[39m\u001b[39m<\u001b[39m\u001b[39m%s\u001b[39;00m\u001b[39m>\u001b[39m\u001b[39m'\u001b[39m \u001b[39m%\u001b[39m \u001b[39m'\u001b[39m\u001b[39m \u001b[39m\u001b[39m'\u001b[39m\u001b[39m.\u001b[39mjoin(parts)\n\u001b[0;32m--> 122\u001b[0m \u001b[39m@asyncio\u001b[39m\u001b[39m.\u001b[39;49mcoroutine\n\u001b[1;32m    123\u001b[0m \u001b[39mdef\u001b[39;00m \u001b[39mstream_from_fd\u001b[39m(fd, loop):\n\u001b[1;32m    124\u001b[0m \u001b[39m    \u001b[39m\u001b[39m\"\"\"Recieve a streamer for a given file descriptor.\"\"\"\u001b[39;00m\n\u001b[1;32m    125\u001b[0m     reader \u001b[39m=\u001b[39m asyncio\u001b[39m.\u001b[39mStreamReader(loop\u001b[39m=\u001b[39mloop)\n",
      "\u001b[0;31mAttributeError\u001b[0m: module 'asyncio' has no attribute 'coroutine'"
     ]
    }
   ],
   "source": [
    "from opentrons import protocol_api\n",
    "\n",
    "metadata = {'apiLevel': '2.13'}\n",
    "\n",
    "def run(protocol: protocol_api.ProtocolContext):\n",
    "    plate = protocol.load_labware('corning_96_wellplate_360ul_flat', 1)\n",
    "    tiprack_1 = protocol.load_labware('opentrons_96_tiprack_300ul', 2)\n",
    "    tiprack_2 = protocol.load_labware('opentrons_96_tiprack_300ul', 3)\n",
    "    reservoir = protocol.load_labware('usascientific_12_reservoir_22ml', 4)\n",
    "    p300 = protocol.load_instrument('p300_single', 'right', tip_racks=[tiprack_1, tiprack_2])\n",
    "    p300.distribute(50, reservoir['A12'], plate.wells())  # dilutent\n",
    "\n",
    "    # loop through each row\n",
    "    for i in range(8):\n",
    "\n",
    "        # save the source well and destination column to variables\n",
    "        source = reservoir.wells()[i]\n",
    "        row = plate.rows()[i]\n",
    "\n",
    "        # transfer 30uL of source to first well in column\n",
    "        p300.transfer(30, source, row[0], mix_after=(3, 25))\n",
    "\n",
    "        # dilute the sample down the column\n",
    "        p300.transfer(\n",
    "            30, row[:11], row[1:],\n",
    "            mix_after=(3, 25))"
   ]
  }
 ],
 "metadata": {
  "kernelspec": {
   "display_name": "Python 3",
   "language": "python",
   "name": "python3"
  },
  "language_info": {
   "codemirror_mode": {
    "name": "ipython",
    "version": 3
   },
   "file_extension": ".py",
   "mimetype": "text/x-python",
   "name": "python",
   "nbconvert_exporter": "python",
   "pygments_lexer": "ipython3",
   "version": "3.11.0"
  },
  "orig_nbformat": 4,
  "vscode": {
   "interpreter": {
    "hash": "aee8b7b246df8f9039afb4144a1f6fd8d2ca17a180786b69acc140d282b71a49"
   }
  }
 },
 "nbformat": 4,
 "nbformat_minor": 2
}
