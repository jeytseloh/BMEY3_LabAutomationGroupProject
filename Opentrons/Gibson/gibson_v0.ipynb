{
 "cells": [
  {
   "cell_type": "code",
   "execution_count": 1,
   "metadata": {},
   "outputs": [
    {
     "name": "stderr",
     "output_type": "stream",
     "text": [
      "C:\\Users\\sonya\\.opentrons\\robot_settings.json not found. Loading defaults\n",
      "C:\\Users\\sonya\\.opentrons\\deck_calibration.json not found. Loading defaults\n"
     ]
    }
   ],
   "source": [
    "## Protocol Reference - https://github.com/Opentrons/opentrons/blob/edge/api/docs/v2/example_protocols/dilution_tutorial_multi.py \n",
    "\n",
    "'''\n",
    "Navigate to the correct folder then type \"opentrons_simulate gibson_v0.py -e\" to simulate this file.\n",
    "The \"-e\" suffix gives an estimated duration for the protocol.\n",
    "The \"-o nothing\" suffix will hide the output for if you just want to check the protocol runs.\n",
    "'''\n",
    "# Default import that is always needed.\n",
    "from opentrons import protocol_api\n",
    "\n",
    "\n",
    "\n",
    "# Import for simulating and executing the protocol.\n",
    "import opentrons.simulate\n",
    "import opentrons.execute\n",
    "\n",
    "\n",
    "# Most Metadata is optional but you MUST include \"apiLevel\"\n",
    "metadata = {\n",
    "    'apiLevel': '2.12',\n",
    "    'protocolName': 'Serial Dilution Tutorial',\n",
    "    'description': '''This protocol is the outcome of following the\n",
    "                   Python Protocol API Tutorial located at\n",
    "                   https://docs.opentrons.com/v2/tutorial.html. It takes a\n",
    "                   solution and progressively dilutes it by transferring it\n",
    "                   stepwise across a plate.''',\n",
    "    'author': 'New API User'\n",
    "    }\n",
    "\n",
    "# This is where you put all your protocol instructions, it is generally defined as shown below.\n",
    "# def run(protocol: protocol_api.ProtocolContext):\n",
    "def run(protocol: protocol_api.ProtocolContext):\n",
    "    #Set up labware and initial conditions\n",
    "    tc_mod = protocol.load_module('thermocycler')\n",
    "    tc_mod.set_block_temperature(temperature=4, block_max_volume=40)\n",
    "    tc_plate = tc_mod.load_labware('nest_96_wellplate_100ul_pcr_full_skirt', label = 'Destination Plate')\n",
    "    tiprack = protocol.load_labware('opentrons_96_tiprack_20ul', 1)\n",
    "    reagents = protocol.load_labware('nest_96_wellplate_2ml_deep', 4)\n",
    "    p20 = protocol.load_instrument('p20_single_gen2', 'left', tip_racks=[tiprack])\n",
    "    \n",
    "    #Transfer H2O - Assembly Reaction + Negative Control\n",
    "    p20.transfer(16, reagents.wells_by_name()['A2'], tc_plate.columns_by_name()['1'])\n",
    "    p20.transfer(16, reagents.wells_by_name()['A2'], tc_plate.columns_by_name()['2'])\n",
    "    #Transfer Gibson Master Mix - Assembly Reaction\n",
    "    p20.transfer(20, reagents.wells_by_name()['A1'], tc_plate.columns_by_name()['1'])\n",
    "    #Transfer H2O - Negative Control\n",
    "    p20.transfer(20, reagents.wells_by_name()['A2'], tc_plate.columns_by_name()['2'])\n",
    "    #Transfer DNA Fragment 1 - Assembly Reaction + Negative Control \n",
    "    p20.transfer(2, reagents.wells_by_name()['A3'], tc_plate.columns_by_name()['1'])\n",
    "    p20.transfer(2, reagents.wells_by_name()['A3'], tc_plate.columns_by_name()['2'])\n",
    "    #Transfer DNA Fragment 2 - Assembly Reaction + Negative Control \n",
    "    p20.transfer(2, reagents.wells_by_name()['A4'], tc_plate.columns_by_name()['1'], mix_after=(5, 20))\n",
    "    p20.transfer(2, reagents.wells_by_name()['A4'], tc_plate.columns_by_name()['2'], mix_after=(5, 20))\n",
    "    #Close thermocycler lid and incubate\n",
    "    tc_mod.close_lid()\n",
    "    tc_mod.set_lid_temperature(temperature=60)\n",
    "    tc_mod.set_block_temperature(temperature=50, hold_time_minutes=15, block_max_volume=40)\n",
    "\n",
    "    for line in protocol.commands():\n",
    "\t    print(line)\n",
    "\n",
    "    # Do we need to specify new tip etc?\n",
    "\n",
    "#Code to simulate protocol\n",
    "protocol = opentrons.simulate.get_protocol_api('2.12')\n",
    "run(protocol)  # your protocol will now run\n",
    "\n",
    "#Code to run protocol\n",
    "#protocol = opentrons.execute.get_protocol_api('2.13')\n",
    "#run(protocol)  # your protocol will now run"
   ]
  }
 ],
 "metadata": {
  "kernelspec": {
   "display_name": "Python 3",
   "language": "python",
   "name": "python3"
  },
  "language_info": {
   "codemirror_mode": {
    "name": "ipython",
    "version": 3
   },
   "file_extension": ".py",
   "mimetype": "text/x-python",
   "name": "python",
   "nbconvert_exporter": "python",
   "pygments_lexer": "ipython3",
   "version": "3.9.2 (tags/v3.9.2:1a79785, Feb 19 2021, 13:44:55) [MSC v.1928 64 bit (AMD64)]"
  },
  "orig_nbformat": 4,
  "vscode": {
   "interpreter": {
    "hash": "81794d4967e6c3204c66dcd87b604927b115b27c00565d3d43f05ba2f3a2cb0d"
   }
  }
 },
 "nbformat": 4,
 "nbformat_minor": 2
}
