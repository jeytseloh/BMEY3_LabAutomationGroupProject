{
 "cells": [
  {
   "attachments": {},
   "cell_type": "markdown",
   "metadata": {},
   "source": [
    "The Gibson Assembly® Protocol below is obtained from the New England Biolabs (NEB).\n",
    "DOI: https://dx.doi.org/10.17504/protocols.io.bdddi226"
   ]
  },
  {
   "cell_type": "code",
   "execution_count": null,
   "metadata": {},
   "outputs": [],
   "source": [
    "import labop\n",
    "from labop.execution_engine import ExecutionEngine\n",
    "from labop_convert.opentrons.opentrons_specialization import OT2Specialization\n",
    "from labop.utils.opentrons import run_ot2_sim, make_demo_script\n",
    "from labop_convert.markdown.markdown_specialization import MarkdownSpecialization\n",
    "\n",
    "import sbol3\n",
    "import uml\n",
    "import tyto\n",
    "from IPython.display import Markdown, IFrame, Image\n",
    "\n",
    "import os\n",
    "\n",
    "# Set up our working directory for protocol files\n",
    "out_dir = os.path.join(os.path.abspath(\"\"), \"out\")\n",
    "if not os.path.exists(out_dir):\n",
    "    os.mkdir(out_dir)"
   ]
  },
  {
   "cell_type": "code",
   "execution_count": null,
   "metadata": {},
   "outputs": [],
   "source": [
    "# Setting up the document\n",
    "# Set up the document\n",
    "print(\"Setting up the document\")\n",
    "doc = sbol3.Document()\n",
    "sbol3.set_namespace(\"http://bbn.com/synbio\") # not too sure what a document namespace is\n",
    "\n",
    "# Import the primitive libraries\n",
    "labop.import_library(\"liquid_handling\")\n",
    "labop.import_library(\"plate_handling\")\n",
    "labop.import_library(\"spectrophotometry\")\n",
    "labop.import_library(\"sample_arrays\")\n",
    "\n",
    "protocol = labop.Protocol(\"OT2_GibsonAssembly\")\n",
    "protocol.name = \"OT2 Gibson Assembly\"\n",
    "protocol.description = \"Gibson Assembly Using Opentrons OT2\"\n",
    "doc.add(protocol)"
   ]
  },
  {
   "cell_type": "code",
   "execution_count": null,
   "metadata": {},
   "outputs": [],
   "source": [
    "# Setting up the OT2 machine\n"
   ]
  },
  {
   "cell_type": "code",
   "execution_count": null,
   "metadata": {},
   "outputs": [],
   "source": [
    "# Protocol step 1 - setting up the reactions on ice"
   ]
  },
  {
   "cell_type": "code",
   "execution_count": null,
   "metadata": {},
   "outputs": [],
   "source": [
    "# Protocol step 2 - incubation in thermocycler at 50 deg for 15 min"
   ]
  },
  {
   "attachments": {},
   "cell_type": "markdown",
   "metadata": {},
   "source": [
    "Protocol step 3 - store samples on ice or at -20 deg"
   ]
  },
  {
   "cell_type": "code",
   "execution_count": null,
   "metadata": {},
   "outputs": [],
   "source": [
    "# Protocol step 4 - transformation of competent E. coli cells with 2uL assembly reaction"
   ]
  },
  {
   "cell_type": "code",
   "execution_count": null,
   "metadata": {},
   "outputs": [],
   "source": [
    "# Execute the protocol\n",
    "filename = os.path.join(out_dir, \"ot2_gibson_labop\")\n",
    "automated_script = filename + \".py\"\n",
    "agent = sbol3.Agent(\"ot2_machine\", name=\"OT2 Machine\")\n",
    "ee = ExecutionEngine(specializations=[MarkdownSpecialization(filename+\".md\")])\n",
    "execution = ee.execute(protocol, agent, id=\"test_execution\")"
   ]
  },
  {
   "cell_type": "code",
   "execution_count": null,
   "metadata": {},
   "outputs": [],
   "source": [
    "# Print markdown on execution\n",
    "print(execution.markdown)"
   ]
  },
  {
   "cell_type": "code",
   "execution_count": null,
   "metadata": {},
   "outputs": [],
   "source": [
    "# Print operator instructions\n",
    "Markdown(ee.specializations[0].markdown)"
   ]
  },
  {
   "cell_type": "code",
   "execution_count": null,
   "metadata": {},
   "outputs": [],
   "source": [
    "# Print OT2 script\n",
    "print(ee.specializations[0].script)"
   ]
  }
 ],
 "metadata": {
  "kernelspec": {
   "display_name": "Python 3",
   "language": "python",
   "name": "python3"
  },
  "language_info": {
   "codemirror_mode": {
    "name": "ipython",
    "version": 3
   },
   "file_extension": ".py",
   "mimetype": "text/x-python",
   "name": "python",
   "nbconvert_exporter": "python",
   "pygments_lexer": "ipython3",
   "version": "3.10.0 (v3.10.0:b494f5935c, Oct  4 2021, 14:59:19) [Clang 12.0.5 (clang-1205.0.22.11)]"
  },
  "orig_nbformat": 4,
  "vscode": {
   "interpreter": {
    "hash": "aee8b7b246df8f9039afb4144a1f6fd8d2ca17a180786b69acc140d282b71a49"
   }
  }
 },
 "nbformat": 4,
 "nbformat_minor": 2
}
