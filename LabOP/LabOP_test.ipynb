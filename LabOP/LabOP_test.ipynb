{
 "cells": [
  {
   "attachments": {},
   "cell_type": "markdown",
   "metadata": {},
   "source": [
    "From: https://colab.research.google.com/drive/1VCwcpd_zJ4zWbxBPIfHV6a0uWGcpthnm?usp=sharing\n",
    "\n",
    "IWBDA 2022 example - LabOP for Opentrons OT2 execution"
   ]
  },
  {
   "cell_type": "code",
   "execution_count": 8,
   "metadata": {},
   "outputs": [],
   "source": [
    "import labop\n",
    "from labop_convert.opentrons.opentrons_specialization import OT2Specialization\n",
    "\n",
    "import sbol3\n",
    "import uml\n",
    "import tyto\n",
    "\n",
    "import os\n",
    "\n",
    "# Set up our working directory for protocol files\n",
    "out_dir = os.path.join(os.path.abspath(\"\"), \"out\")\n",
    "if not os.path.exists(out_dir):\n",
    "    os.mkdir(out_dir)"
   ]
  },
  {
   "cell_type": "code",
   "execution_count": 4,
   "metadata": {},
   "outputs": [
    {
     "name": "stdout",
     "output_type": "stream",
     "text": [
      "Setting up the document\n"
     ]
    },
    {
     "data": {
      "text/plain": [
       "<sbol_factory.sbol_factory.Protocol at 0x122eb97b0>"
      ]
     },
     "execution_count": 4,
     "metadata": {},
     "output_type": "execute_result"
    }
   ],
   "source": [
    "# Set up the document\n",
    "print(\"Setting up the document\")\n",
    "doc = sbol3.Document()\n",
    "sbol3.set_namespace(\"http://bbn.com/synbio\") # not too sure what a document namespace is\n",
    "\n",
    "# Import the primitive libraries\n",
    "labop.import_library(\"liquid_handling\")\n",
    "labop.import_library(\"plate_handling\")\n",
    "labop.import_library(\"spectrophotometry\")\n",
    "labop.import_library(\"sample_arrays\")\n",
    "\n",
    "protocol = labop.Protocol(\"OT2_demo\")\n",
    "protocol.name = \"OT2 Demo\"\n",
    "protocol.description = \"IWBDA 2022 Example Using Opentrons OT2\"\n",
    "doc.add(protocol)"
   ]
  },
  {
   "cell_type": "code",
   "execution_count": 9,
   "metadata": {},
   "outputs": [
    {
     "name": "stdout",
     "output_type": "stream",
     "text": [
      "p20_single_gen2 <Agent http://sbols.org/unspecified_namespace/p20_single_gen2>\n",
      "p300_single_gen2 <Agent http://sbols.org/unspecified_namespace/p300_single_gen2>\n",
      "p1000_single_gen2 <Agent http://sbols.org/unspecified_namespace/p1000_single_gen2>\n",
      "p300_multi_gen2 <Agent http://sbols.org/unspecified_namespace/p300_multi_gen2>\n",
      "p20_multi_gen2 <Agent http://sbols.org/unspecified_namespace/p20_multi_gen2>\n",
      "p10_single <Agent http://sbols.org/unspecified_namespace/p10_single>\n",
      "p10_multi <Agent http://sbols.org/unspecified_namespace/p10_multi>\n",
      "p50_single <Agent http://sbols.org/unspecified_namespace/p50_single>\n",
      "p50_multi <Agent http://sbols.org/unspecified_namespace/p50_multi>\n",
      "p300_single <Agent http://sbols.org/unspecified_namespace/p300_single>\n",
      "p300_multi <Agent http://sbols.org/unspecified_namespace/p300_multi>\n",
      "p1000_single <Agent http://sbols.org/unspecified_namespace/p1000_single>\n",
      "temperature_module <Agent http://sbols.org/unspecified_namespace/temperature_module>\n",
      "tempdeck <Agent http://sbols.org/unspecified_namespace/temperature_module>\n",
      "temperature_module_gen2 <Agent http://sbols.org/unspecified_namespace/temperature_module_gen2>\n",
      "magnetic_module <Agent http://sbols.org/unspecified_namespace/magdeck>\n",
      "magnetic_module_gen2 <Agent http://sbols.org/unspecified_namespace/magnetic_module_gen2>\n",
      "thermocycler_module <Agent http://sbols.org/unspecified_namespace/thermocycler_module>\n",
      "thermocycler <Agent http://sbols.org/unspecified_namespace/thermocycler_module>\n"
     ]
    }
   ],
   "source": [
    "# Inspect the available OT2 hardware modules -- can be accessed in the OT2Specialization.EQUIPMENT lookup table\n",
    "for equipment, agent in OT2Specialization.EQUIPMENT.items():\n",
    "    print(equipment, agent)"
   ]
  },
  {
   "cell_type": "code",
   "execution_count": null,
   "metadata": {},
   "outputs": [],
   "source": [
    "#  Set up OT2 machine\n",
    "\n",
    "# Choose a pipette and set up the OT2 machine\n",
    "left_pipette = protocol.primitive_step(\"ConfigureRobot\",\n",
    "                                       instrument=OT2Specialization.EQUIPMENT['p300_single_gen_2'],\n",
    "                                       mount=\"left\")\n",
    "\n",
    "# Add a tiprack to Deck 1\n",
    "# (pipette will automatically configure if it detects a compatible tiprack)\n",
    "tiprack_spec = labop.ContainerSpec(\"tiprack\",queryString=\"cont:Opentrons96TipRack300uL\")\n",
    "tiprack = protocol.primitive_step(\"LoadRackOnInstrument\", rack=tiprack_spec, coordinates=\"1\")\n",
    "\n",
    "# Specify a 96 well plate for samples and add it to Deck 2\n"
   ]
  }
 ],
 "metadata": {
  "kernelspec": {
   "display_name": "Python 3",
   "language": "python",
   "name": "python3"
  },
  "language_info": {
   "codemirror_mode": {
    "name": "ipython",
    "version": 3
   },
   "file_extension": ".py",
   "mimetype": "text/x-python",
   "name": "python",
   "nbconvert_exporter": "python",
   "pygments_lexer": "ipython3",
   "version": "3.10.0"
  },
  "orig_nbformat": 4,
  "vscode": {
   "interpreter": {
    "hash": "aee8b7b246df8f9039afb4144a1f6fd8d2ca17a180786b69acc140d282b71a49"
   }
  }
 },
 "nbformat": 4,
 "nbformat_minor": 2
}
