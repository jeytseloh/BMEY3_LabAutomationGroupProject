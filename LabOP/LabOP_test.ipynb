{
 "cells": [
  {
   "attachments": {},
   "cell_type": "markdown",
   "metadata": {},
   "source": [
    "From: https://colab.research.google.com/drive/1VCwcpd_zJ4zWbxBPIfHV6a0uWGcpthnm?usp=sharing\n",
    "\n",
    "IWBDA 2022 example - LabOP for Opentrons OT2 execution"
   ]
  },
  {
   "cell_type": "code",
   "execution_count": 37,
   "metadata": {},
   "outputs": [
    {
     "name": "stdout",
     "output_type": "stream",
     "text": [
      "Cloning into 'labop'...\n",
      "remote: Enumerating objects: 4342, done.\u001b[K\n",
      "remote: Counting objects: 100% (2332/2332), done.\u001b[K\n",
      "remote: Compressing objects: 100% (784/784), done.\u001b[K\n",
      "remote: Total 4342 (delta 1669), reused 2086 (delta 1525), pack-reused 2010\u001b[K\n",
      "Receiving objects: 100% (4342/4342), 14.69 MiB | 12.59 MiB/s, done.\n",
      "Resolving deltas: 100% (2934/2934), done.\n",
      "Processing ./labop\n",
      "  Preparing metadata (setup.py) ... \u001b[?25ldone\n",
      "\u001b[?25hCollecting container-ontology@ https://github.com/rpgoldman/container-ontology/tarball/main\n",
      "  Using cached https://github.com/rpgoldman/container-ontology/tarball/main\n",
      "  Preparing metadata (setup.py) ... \u001b[?25ldone\n",
      "\u001b[?25hRequirement already satisfied: sbol3 in /Library/Frameworks/Python.framework/Versions/3.10/lib/python3.10/site-packages (from labop==1.0a2) (1.0.1)\n",
      "Requirement already satisfied: sparqlwrapper in /Library/Frameworks/Python.framework/Versions/3.10/lib/python3.10/site-packages (from labop==1.0a2) (2.0.0)\n",
      "Requirement already satisfied: python-dateutil in /Library/Frameworks/Python.framework/Versions/3.10/lib/python3.10/site-packages (from labop==1.0a2) (2.8.2)\n",
      "Requirement already satisfied: sbol-factory in /Library/Frameworks/Python.framework/Versions/3.10/lib/python3.10/site-packages (from labop==1.0a2) (1.1.1.post1)\n",
      "Requirement already satisfied: requests in /Library/Frameworks/Python.framework/Versions/3.10/lib/python3.10/site-packages (from labop==1.0a2) (2.28.1)\n",
      "Requirement already satisfied: graphviz in /Library/Frameworks/Python.framework/Versions/3.10/lib/python3.10/site-packages (from labop==1.0a2) (0.20.1)\n",
      "Requirement already satisfied: tyto in /Library/Frameworks/Python.framework/Versions/3.10/lib/python3.10/site-packages (from labop==1.0a2) (1.4)\n",
      "Requirement already satisfied: numpy in /Library/Frameworks/Python.framework/Versions/3.10/lib/python3.10/site-packages (from labop==1.0a2) (1.22.1)\n",
      "Requirement already satisfied: openpyxl in /Library/Frameworks/Python.framework/Versions/3.10/lib/python3.10/site-packages (from labop==1.0a2) (3.0.10)\n",
      "Requirement already satisfied: autoprotocol in /Library/Frameworks/Python.framework/Versions/3.10/lib/python3.10/site-packages (from labop==1.0a2) (9.1.0)\n",
      "Requirement already satisfied: transcriptic in /Library/Frameworks/Python.framework/Versions/3.10/lib/python3.10/site-packages (from labop==1.0a2) (9.6.2)\n",
      "Requirement already satisfied: requests_html in /Library/Frameworks/Python.framework/Versions/3.10/lib/python3.10/site-packages (from labop==1.0a2) (0.10.0)\n",
      "Requirement already satisfied: xarray in /Library/Frameworks/Python.framework/Versions/3.10/lib/python3.10/site-packages (from labop==1.0a2) (2023.1.0)\n",
      "Requirement already satisfied: Pint==0.9 in /Library/Frameworks/Python.framework/Versions/3.10/lib/python3.10/site-packages (from autoprotocol->labop==1.0a2) (0.9)\n",
      "Collecting owlery-client@ git+https://github.com/rpgoldman/owlery-client.git@v1.0.0#egg=owlery-client\n",
      "  Cloning https://github.com/rpgoldman/owlery-client.git (to revision v1.0.0) to /private/var/folders/tj/rjb1ztwd5t3dkwv4swm8h4_h0000gn/T/pip-install-cdxnql5v/owlery-client_51478ba6315a443e8cf347996878276d\n",
      "  Running command git clone --filter=blob:none --quiet https://github.com/rpgoldman/owlery-client.git /private/var/folders/tj/rjb1ztwd5t3dkwv4swm8h4_h0000gn/T/pip-install-cdxnql5v/owlery-client_51478ba6315a443e8cf347996878276d\n",
      "  Running command git checkout -q e0ea473080a7b9be76744d485ddde04f04687bd2\n",
      "  Resolved https://github.com/rpgoldman/owlery-client.git to commit e0ea473080a7b9be76744d485ddde04f04687bd2\n",
      "  Preparing metadata (setup.py) ... \u001b[?25ldone\n",
      "\u001b[?25hRequirement already satisfied: rdflib in /Library/Frameworks/Python.framework/Versions/3.10/lib/python3.10/site-packages (from container-ontology@ https://github.com/rpgoldman/container-ontology/tarball/main->labop==1.0a2) (6.2.0)\n",
      "Requirement already satisfied: urllib3>=1.25.3 in /Library/Frameworks/Python.framework/Versions/3.10/lib/python3.10/site-packages (from container-ontology@ https://github.com/rpgoldman/container-ontology/tarball/main->labop==1.0a2) (1.26.12)\n",
      "Requirement already satisfied: et-xmlfile in /Library/Frameworks/Python.framework/Versions/3.10/lib/python3.10/site-packages (from openpyxl->labop==1.0a2) (1.1.0)\n",
      "Requirement already satisfied: six>=1.5 in /Library/Frameworks/Python.framework/Versions/3.10/lib/python3.10/site-packages (from python-dateutil->labop==1.0a2) (1.16.0)\n",
      "Requirement already satisfied: charset-normalizer<3,>=2 in /Library/Frameworks/Python.framework/Versions/3.10/lib/python3.10/site-packages (from requests->labop==1.0a2) (2.1.1)\n",
      "Requirement already satisfied: certifi>=2017.4.17 in /Library/Frameworks/Python.framework/Versions/3.10/lib/python3.10/site-packages (from requests->labop==1.0a2) (2022.9.24)\n",
      "Requirement already satisfied: idna<4,>=2.5 in /Library/Frameworks/Python.framework/Versions/3.10/lib/python3.10/site-packages (from requests->labop==1.0a2) (3.4)\n",
      "Requirement already satisfied: fake-useragent in /Library/Frameworks/Python.framework/Versions/3.10/lib/python3.10/site-packages (from requests_html->labop==1.0a2) (1.1.1)\n",
      "Requirement already satisfied: w3lib in /Library/Frameworks/Python.framework/Versions/3.10/lib/python3.10/site-packages (from requests_html->labop==1.0a2) (2.1.1)\n",
      "Requirement already satisfied: parse in /Library/Frameworks/Python.framework/Versions/3.10/lib/python3.10/site-packages (from requests_html->labop==1.0a2) (1.19.0)\n",
      "Requirement already satisfied: bs4 in /Library/Frameworks/Python.framework/Versions/3.10/lib/python3.10/site-packages (from requests_html->labop==1.0a2) (0.0.1)\n",
      "Requirement already satisfied: pyppeteer>=0.0.14 in /Library/Frameworks/Python.framework/Versions/3.10/lib/python3.10/site-packages (from requests_html->labop==1.0a2) (1.0.2)\n",
      "Requirement already satisfied: pyquery in /Library/Frameworks/Python.framework/Versions/3.10/lib/python3.10/site-packages (from requests_html->labop==1.0a2) (2.0.0)\n",
      "Requirement already satisfied: PyPDF2 in /Library/Frameworks/Python.framework/Versions/3.10/lib/python3.10/site-packages (from sbol-factory->labop==1.0a2) (3.0.1)\n",
      "Requirement already satisfied: pyshacl>=0.13.3 in /Library/Frameworks/Python.framework/Versions/3.10/lib/python3.10/site-packages (from sbol-factory->labop==1.0a2) (0.18.1)\n",
      "Requirement already satisfied: pylatex in /Library/Frameworks/Python.framework/Versions/3.10/lib/python3.10/site-packages (from sbol-factory->labop==1.0a2) (1.4.1)\n",
      "Requirement already satisfied: setuptools in /Library/Frameworks/Python.framework/Versions/3.10/lib/python3.10/site-packages (from rdflib->container-ontology@ https://github.com/rpgoldman/container-ontology/tarball/main->labop==1.0a2) (60.5.0)\n",
      "Requirement already satisfied: pyparsing in /Library/Frameworks/Python.framework/Versions/3.10/lib/python3.10/site-packages (from rdflib->container-ontology@ https://github.com/rpgoldman/container-ontology/tarball/main->labop==1.0a2) (2.4.7)\n",
      "Requirement already satisfied: isodate in /Library/Frameworks/Python.framework/Versions/3.10/lib/python3.10/site-packages (from rdflib->container-ontology@ https://github.com/rpgoldman/container-ontology/tarball/main->labop==1.0a2) (0.6.1)\n",
      "Requirement already satisfied: httpsig==1.3.0 in /Library/Frameworks/Python.framework/Versions/3.10/lib/python3.10/site-packages (from transcriptic->labop==1.0a2) (1.3.0)\n",
      "Requirement already satisfied: Click<8,>=7.0 in /Library/Frameworks/Python.framework/Versions/3.10/lib/python3.10/site-packages (from transcriptic->labop==1.0a2) (7.1.2)\n",
      "Requirement already satisfied: pycryptodome==3.9.6 in /Library/Frameworks/Python.framework/Versions/3.10/lib/python3.10/site-packages (from transcriptic->labop==1.0a2) (3.9.6)\n",
      "Requirement already satisfied: responses>=0.13.4 in /Library/Frameworks/Python.framework/Versions/3.10/lib/python3.10/site-packages (from transcriptic->labop==1.0a2) (0.22.0)\n",
      "Requirement already satisfied: Jinja2<4,>=3.0 in /Library/Frameworks/Python.framework/Versions/3.10/lib/python3.10/site-packages (from transcriptic->labop==1.0a2) (3.1.2)\n",
      "Requirement already satisfied: python-magic<1,>=0.4 in /Library/Frameworks/Python.framework/Versions/3.10/lib/python3.10/site-packages (from transcriptic->labop==1.0a2) (0.4.27)\n",
      "Requirement already satisfied: pandas>=1.3 in /Library/Frameworks/Python.framework/Versions/3.10/lib/python3.10/site-packages (from xarray->labop==1.0a2) (1.5.3)\n",
      "Requirement already satisfied: packaging>=21.3 in /Library/Frameworks/Python.framework/Versions/3.10/lib/python3.10/site-packages (from xarray->labop==1.0a2) (21.3)\n",
      "Requirement already satisfied: MarkupSafe>=2.0 in /Library/Frameworks/Python.framework/Versions/3.10/lib/python3.10/site-packages (from Jinja2<4,>=3.0->transcriptic->labop==1.0a2) (2.1.2)\n",
      "Requirement already satisfied: pytz>=2020.1 in /Library/Frameworks/Python.framework/Versions/3.10/lib/python3.10/site-packages (from pandas>=1.3->xarray->labop==1.0a2) (2022.7.1)\n",
      "Requirement already satisfied: websockets<11.0,>=10.0 in /Library/Frameworks/Python.framework/Versions/3.10/lib/python3.10/site-packages (from pyppeteer>=0.0.14->requests_html->labop==1.0a2) (10.4)\n",
      "Requirement already satisfied: importlib-metadata>=1.4 in /Library/Frameworks/Python.framework/Versions/3.10/lib/python3.10/site-packages (from pyppeteer>=0.0.14->requests_html->labop==1.0a2) (6.0.0)\n",
      "Requirement already satisfied: pyee<9.0.0,>=8.1.0 in /Library/Frameworks/Python.framework/Versions/3.10/lib/python3.10/site-packages (from pyppeteer>=0.0.14->requests_html->labop==1.0a2) (8.2.2)\n",
      "Requirement already satisfied: appdirs<2.0.0,>=1.4.3 in /Library/Frameworks/Python.framework/Versions/3.10/lib/python3.10/site-packages (from pyppeteer>=0.0.14->requests_html->labop==1.0a2) (1.4.4)\n",
      "Requirement already satisfied: tqdm<5.0.0,>=4.42.1 in /Library/Frameworks/Python.framework/Versions/3.10/lib/python3.10/site-packages (from pyppeteer>=0.0.14->requests_html->labop==1.0a2) (4.64.1)\n",
      "Requirement already satisfied: owlrl<7,>=6.0.2 in /Library/Frameworks/Python.framework/Versions/3.10/lib/python3.10/site-packages (from pyshacl>=0.13.3->sbol-factory->labop==1.0a2) (6.0.2)\n",
      "Requirement already satisfied: prettytable<3.0.0,>=2.2.1 in /Library/Frameworks/Python.framework/Versions/3.10/lib/python3.10/site-packages (from pyshacl>=0.13.3->sbol-factory->labop==1.0a2) (2.5.0)\n",
      "Requirement already satisfied: types-toml in /Library/Frameworks/Python.framework/Versions/3.10/lib/python3.10/site-packages (from responses>=0.13.4->transcriptic->labop==1.0a2) (0.10.8.1)\n",
      "Requirement already satisfied: toml in /Library/Frameworks/Python.framework/Versions/3.10/lib/python3.10/site-packages (from responses>=0.13.4->transcriptic->labop==1.0a2) (0.10.2)\n",
      "Requirement already satisfied: beautifulsoup4 in /Library/Frameworks/Python.framework/Versions/3.10/lib/python3.10/site-packages (from bs4->requests_html->labop==1.0a2) (4.11.1)\n",
      "Requirement already satisfied: ordered-set in /Library/Frameworks/Python.framework/Versions/3.10/lib/python3.10/site-packages (from pylatex->sbol-factory->labop==1.0a2) (4.1.0)\n",
      "Requirement already satisfied: cssselect>=1.2.0 in /Library/Frameworks/Python.framework/Versions/3.10/lib/python3.10/site-packages (from pyquery->requests_html->labop==1.0a2) (1.2.0)\n",
      "Requirement already satisfied: lxml>=2.1 in /Library/Frameworks/Python.framework/Versions/3.10/lib/python3.10/site-packages (from pyquery->requests_html->labop==1.0a2) (4.9.2)\n",
      "Requirement already satisfied: zipp>=0.5 in /Library/Frameworks/Python.framework/Versions/3.10/lib/python3.10/site-packages (from importlib-metadata>=1.4->pyppeteer>=0.0.14->requests_html->labop==1.0a2) (3.11.0)\n",
      "Requirement already satisfied: wcwidth in /Library/Frameworks/Python.framework/Versions/3.10/lib/python3.10/site-packages (from prettytable<3.0.0,>=2.2.1->pyshacl>=0.13.3->sbol-factory->labop==1.0a2) (0.2.6)\n",
      "Requirement already satisfied: soupsieve>1.2 in /Library/Frameworks/Python.framework/Versions/3.10/lib/python3.10/site-packages (from beautifulsoup4->bs4->requests_html->labop==1.0a2) (2.3.2.post1)\n",
      "Building wheels for collected packages: labop\n",
      "  Building wheel for labop (setup.py) ... \u001b[?25ldone\n",
      "\u001b[?25h  Created wheel for labop: filename=labop-1.0a2-py3-none-any.whl size=194786 sha256=3e5863cbb832997ed6af57fe264dca05e9789b7afc5cbf5c31d3daf4a219e0cc\n",
      "  Stored in directory: /private/var/folders/tj/rjb1ztwd5t3dkwv4swm8h4_h0000gn/T/pip-ephem-wheel-cache-mcgeclp_/wheels/bd/2f/46/163530bbbc14fc6972fe87934188d1727befc4e29b33853f6e\n",
      "Successfully built labop\n",
      "Installing collected packages: labop\n",
      "  Attempting uninstall: labop\n",
      "    Found existing installation: labop 1.0a2\n",
      "    Uninstalling labop-1.0a2:\n",
      "      Successfully uninstalled labop-1.0a2\n",
      "Successfully installed labop-1.0a2\n",
      "Requirement already satisfied: opentrons in /Library/Frameworks/Python.framework/Versions/3.10/lib/python3.10/site-packages (6.2.0)\n",
      "Requirement already satisfied: pyserial==3.5 in /Library/Frameworks/Python.framework/Versions/3.10/lib/python3.10/site-packages (from opentrons) (3.5)\n",
      "Collecting click<9,>=8.0.0\n",
      "  Using cached click-8.1.3-py3-none-any.whl (96 kB)\n",
      "Requirement already satisfied: anyio==3.3.0 in /Library/Frameworks/Python.framework/Versions/3.10/lib/python3.10/site-packages (from opentrons) (3.3.0)\n",
      "Requirement already satisfied: aionotify==0.2.0 in /Library/Frameworks/Python.framework/Versions/3.10/lib/python3.10/site-packages (from opentrons) (0.2.0)\n",
      "Collecting jsonschema==3.0.2\n",
      "  Using cached jsonschema-3.0.2-py2.py3-none-any.whl (54 kB)\n",
      "Requirement already satisfied: opentrons-shared-data==6.2.0 in /Library/Frameworks/Python.framework/Versions/3.10/lib/python3.10/site-packages (from opentrons) (6.2.0)\n",
      "Requirement already satisfied: typing-extensions<5,>=4.0.0 in /Library/Frameworks/Python.framework/Versions/3.10/lib/python3.10/site-packages (from opentrons) (4.4.0)\n",
      "Requirement already satisfied: numpy<2,>=1.15.1 in /Library/Frameworks/Python.framework/Versions/3.10/lib/python3.10/site-packages (from opentrons) (1.22.1)\n",
      "Requirement already satisfied: pydantic==1.8.2 in /Library/Frameworks/Python.framework/Versions/3.10/lib/python3.10/site-packages (from opentrons) (1.8.2)\n",
      "Requirement already satisfied: idna>=2.8 in /Library/Frameworks/Python.framework/Versions/3.10/lib/python3.10/site-packages (from anyio==3.3.0->opentrons) (3.4)\n",
      "Requirement already satisfied: sniffio>=1.1 in /Library/Frameworks/Python.framework/Versions/3.10/lib/python3.10/site-packages (from anyio==3.3.0->opentrons) (1.3.0)\n",
      "Requirement already satisfied: setuptools in /Library/Frameworks/Python.framework/Versions/3.10/lib/python3.10/site-packages (from jsonschema==3.0.2->opentrons) (60.5.0)\n",
      "Requirement already satisfied: attrs>=17.4.0 in /Library/Frameworks/Python.framework/Versions/3.10/lib/python3.10/site-packages (from jsonschema==3.0.2->opentrons) (22.2.0)\n",
      "Requirement already satisfied: pyrsistent>=0.14.0 in /Library/Frameworks/Python.framework/Versions/3.10/lib/python3.10/site-packages (from jsonschema==3.0.2->opentrons) (0.19.3)\n",
      "Requirement already satisfied: six>=1.11.0 in /Library/Frameworks/Python.framework/Versions/3.10/lib/python3.10/site-packages (from jsonschema==3.0.2->opentrons) (1.16.0)\n",
      "Installing collected packages: jsonschema, click\n",
      "  Attempting uninstall: jsonschema\n",
      "    Found existing installation: jsonschema 4.17.3\n",
      "    Uninstalling jsonschema-4.17.3:\n",
      "      Successfully uninstalled jsonschema-4.17.3\n",
      "  Attempting uninstall: click\n",
      "    Found existing installation: click 7.1.2\n",
      "    Uninstalling click-7.1.2:\n",
      "      Successfully uninstalled click-7.1.2\n",
      "\u001b[31mERROR: pip's dependency resolver does not currently take into account all the packages that are installed. This behaviour is the source of the following dependency conflicts.\n",
      "jupyter-events 0.6.3 requires jsonschema[format-nongpl]>=3.2.0, but you have jsonschema 3.0.2 which is incompatible.\n",
      "transcriptic 9.6.2 requires Click<8,>=7.0, but you have click 8.1.3 which is incompatible.\u001b[0m\u001b[31m\n",
      "\u001b[0mSuccessfully installed click-8.1.3 jsonschema-3.0.2\n"
     ]
    }
   ],
   "source": [
    "!git clone https://github.com/Bioprotocols/labop.git\n",
    "!pip install ./labop\n",
    "!pip install opentrons\n",
    "\n",
    "!cd .."
   ]
  },
  {
   "cell_type": "code",
   "execution_count": 38,
   "metadata": {},
   "outputs": [
    {
     "ename": "ModuleNotFoundError",
     "evalue": "No module named 'labop.utils'",
     "output_type": "error",
     "traceback": [
      "\u001b[0;31m---------------------------------------------------------------------------\u001b[0m",
      "\u001b[0;31mModuleNotFoundError\u001b[0m                       Traceback (most recent call last)",
      "Cell \u001b[0;32mIn[38], line 5\u001b[0m\n\u001b[1;32m      3\u001b[0m \u001b[39mfrom\u001b[39;00m \u001b[39mlabop\u001b[39;00m\u001b[39m.\u001b[39;00m\u001b[39mexecution_engine\u001b[39;00m \u001b[39mimport\u001b[39;00m ExecutionEngine\n\u001b[1;32m      4\u001b[0m \u001b[39mfrom\u001b[39;00m \u001b[39mlabop_convert\u001b[39;00m\u001b[39m.\u001b[39;00m\u001b[39mmarkdown\u001b[39;00m\u001b[39m.\u001b[39;00m\u001b[39mmarkdown_specialization\u001b[39;00m \u001b[39mimport\u001b[39;00m MarkdownSpecialization\n\u001b[0;32m----> 5\u001b[0m \u001b[39mfrom\u001b[39;00m \u001b[39mlabop\u001b[39;00m\u001b[39m.\u001b[39;00m\u001b[39mutils\u001b[39;00m\u001b[39m.\u001b[39;00m\u001b[39mopentrons\u001b[39;00m \u001b[39mimport\u001b[39;00m run_ot2_sim, make_demo_script\n\u001b[1;32m      7\u001b[0m \u001b[39mimport\u001b[39;00m \u001b[39msbol3\u001b[39;00m\n\u001b[1;32m      8\u001b[0m \u001b[39mimport\u001b[39;00m \u001b[39muml\u001b[39;00m\n",
      "\u001b[0;31mModuleNotFoundError\u001b[0m: No module named 'labop.utils'"
     ]
    }
   ],
   "source": [
    "import labop\n",
    "from labop_convert.opentrons.opentrons_specialization import OT2Specialization\n",
    "from labop.execution_engine import ExecutionEngine\n",
    "from labop_convert.markdown.markdown_specialization import MarkdownSpecialization\n",
    "from labop. import run_ot2_sim, make_demo_script\n",
    "\n",
    "import sbol3\n",
    "import uml\n",
    "import tyto # for annotation practices in synbio data-sharing\n",
    "from IPython.display import Markdown, IFrame, Image\n",
    "\n",
    "import os\n",
    "\n",
    "# Set up our working directory for protocol files\n",
    "out_dir = os.path.join(os.path.abspath(\"\"), \"out\")\n",
    "if not os.path.exists(out_dir):\n",
    "    os.mkdir(out_dir)"
   ]
  },
  {
   "cell_type": "code",
   "execution_count": null,
   "metadata": {},
   "outputs": [
    {
     "name": "stdout",
     "output_type": "stream",
     "text": [
      "Setting up the document\n"
     ]
    },
    {
     "data": {
      "text/plain": [
       "<sbol_factory.sbol_factory.Protocol at 0x11065b010>"
      ]
     },
     "execution_count": 27,
     "metadata": {},
     "output_type": "execute_result"
    }
   ],
   "source": [
    "# Set up the document\n",
    "print(\"Setting up the document\")\n",
    "doc = sbol3.Document()\n",
    "sbol3.set_namespace(\"http://bbn.com/synbio\") # not too sure what a document namespace is\n",
    "\n",
    "# Import the primitive libraries\n",
    "labop.import_library(\"liquid_handling\")\n",
    "labop.import_library(\"plate_handling\")\n",
    "labop.import_library(\"spectrophotometry\")\n",
    "labop.import_library(\"sample_arrays\")\n",
    "\n",
    "protocol = labop.Protocol(\"OT2_demo\")\n",
    "protocol.name = \"OT2 Demo\"\n",
    "protocol.description = \"IWBDA 2022 Example Using Opentrons OT2\"\n",
    "doc.add(protocol)"
   ]
  },
  {
   "cell_type": "code",
   "execution_count": null,
   "metadata": {},
   "outputs": [
    {
     "name": "stdout",
     "output_type": "stream",
     "text": [
      "p20_single_gen2 <Agent http://sbols.org/unspecified_namespace/p20_single_gen2>\n",
      "p300_single_gen2 <Agent http://sbols.org/unspecified_namespace/p300_single_gen2>\n",
      "p1000_single_gen2 <Agent http://sbols.org/unspecified_namespace/p1000_single_gen2>\n",
      "p300_multi_gen2 <Agent http://sbols.org/unspecified_namespace/p300_multi_gen2>\n",
      "p20_multi_gen2 <Agent http://sbols.org/unspecified_namespace/p20_multi_gen2>\n",
      "p10_single <Agent http://sbols.org/unspecified_namespace/p10_single>\n",
      "p10_multi <Agent http://sbols.org/unspecified_namespace/p10_multi>\n",
      "p50_single <Agent http://sbols.org/unspecified_namespace/p50_single>\n",
      "p50_multi <Agent http://sbols.org/unspecified_namespace/p50_multi>\n",
      "p300_single <Agent http://sbols.org/unspecified_namespace/p300_single>\n",
      "p300_multi <Agent http://sbols.org/unspecified_namespace/p300_multi>\n",
      "p1000_single <Agent http://sbols.org/unspecified_namespace/p1000_single>\n",
      "temperature_module <Agent http://sbols.org/unspecified_namespace/temperature_module>\n",
      "tempdeck <Agent http://sbols.org/unspecified_namespace/temperature_module>\n",
      "temperature_module_gen2 <Agent http://sbols.org/unspecified_namespace/temperature_module_gen2>\n",
      "magnetic_module <Agent http://sbols.org/unspecified_namespace/magdeck>\n",
      "magnetic_module_gen2 <Agent http://sbols.org/unspecified_namespace/magnetic_module_gen2>\n",
      "thermocycler_module <Agent http://sbols.org/unspecified_namespace/thermocycler_module>\n",
      "thermocycler <Agent http://sbols.org/unspecified_namespace/thermocycler_module>\n"
     ]
    }
   ],
   "source": [
    "# Inspect the available OT2 hardware modules -- can be accessed in the OT2Specialization.EQUIPMENT lookup table\n",
    "for equipment, agent in OT2Specialization.EQUIPMENT.items():\n",
    "    print(equipment, agent)"
   ]
  },
  {
   "cell_type": "code",
   "execution_count": null,
   "metadata": {},
   "outputs": [],
   "source": [
    "#  Set up OT2 machine\n",
    "\n",
    "# Choose a pipette and set up the OT2 machine\n",
    "left_pipette = protocol.primitive_step(\"ConfigureRobot\",\n",
    "                                       instrument=OT2Specialization.EQUIPMENT['p300_single_gen2'],\n",
    "                                       mount=\"left\")\n",
    "\n",
    "# Add a tiprack to Deck 1\n",
    "# (pipette will automatically configure if it detects a compatible tiprack)\n",
    "tiprack_spec = labop.ContainerSpec(\"tiprack\",queryString=\"cont:Opentrons96TipRack300uL\")\n",
    "tiprack = protocol.primitive_step(\"LoadRackOnInstrument\", rack=tiprack_spec, coordinates=\"1\")\n",
    "\n",
    "# Specify a 96 well plate for samples and add it to Deck 2\n",
    "plate_spec = labop.ContainerSpec(\"sample_plate\",\n",
    "                                name=\"calibration plate\", # this name shows up in the human-readable protocol\n",
    "                                queryString=\"cont:Corning96WellPlate360uLFlat\") # choose a 95 well plate\n",
    "plate = protocol.primitive_step(\"EmptyContainer\", specification=plate_spec)\n",
    "load_plate = protocol.primitive_step(\"LoadRackOnInstrument\", rack=plate_spec, coordinates=\"2\")"
   ]
  },
  {
   "cell_type": "code",
   "execution_count": null,
   "metadata": {},
   "outputs": [],
   "source": [
    "# Transfer from one well to another\n",
    "source_well = protocol.primitive_step(\"PlateCoordinates\", source=plate.output_pin(\"samples\"), coordinates=\"A1\")\n",
    "dest_well = protocol.primitive_step(\"PlateCoordinates\", source=plate.output_pin(\"samples\"), coordinates=\"B2\")\n",
    "pip1 = protocol.primitive_step(\"Transfer\",\n",
    "                               source=source_well.output_pin(\"samples\"),\n",
    "                               destination=dest_well.output_pin(\"samples\"),\n",
    "                               amount=sbol3.Measure(100, tyto.OM.microliter)\n",
    "                               )"
   ]
  },
  {
   "cell_type": "code",
   "execution_count": null,
   "metadata": {},
   "outputs": [
    {
     "name": "stderr",
     "output_type": "stream",
     "text": [
      "WARNING:/Library/Frameworks/Python.framework/Versions/3.10/lib/python3.10/site-packages/labop_convert/behavior_specialization.py:Failed to find handler for behavior: https://bioprotocols.org/labop/primitives/sample_arrays/ConfigureRobot\n",
      "WARNING:/Library/Frameworks/Python.framework/Versions/3.10/lib/python3.10/site-packages/labop_convert/behavior_specialization.py:Failed to find handler for behavior: https://bioprotocols.org/labop/primitives/sample_arrays/LoadRackOnInstrument\n",
      "WARNING:/Library/Frameworks/Python.framework/Versions/3.10/lib/python3.10/site-packages/labop_convert/behavior_specialization.py:Failed to find handler for behavior: https://bioprotocols.org/labop/primitives/sample_arrays/LoadRackOnInstrument\n"
     ]
    },
    {
     "name": "stdout",
     "output_type": "stream",
     "text": [
      "Initializing execution test_execution\n"
     ]
    },
    {
     "name": "stderr",
     "output_type": "stream",
     "text": [
      "WARNING:/Library/Frameworks/Python.framework/Versions/3.10/lib/python3.10/site-packages/labop_convert/behavior_specialization.py:<class 'labop_convert.markdown.markdown_specialization.MarkdownSpecialization'> Could not process() ActivityNodeException: <CallBehaviorExecution http://bbn.com/synbio/test_execution/CallBehaviorExecution7>: '{\"dims\": [\"aliquot\"], \"attrs\": {}, \"data\": [true, false, false, false, false, false, false, false, false, false, false, false, false, false, false, false, false, false, false, false, false, false, false, false, false, false, false, false, false, false, false, false, false, false, false, false, false, false, false, false, false, false, false, false, false, false, false, false, false, false, false, false, false, false, false, false, false, false, false, false, false, false, false, false, false, false, false, false, false, false, false, false, false, false, false, false, false, false, false, false, false, false, false, false, false, false, false, false, false, false, false, false, false, false, false, false], \"coords\": {\"aliquot\": {\"dims\": [\"aliquot\"], \"attrs\": {}, \"data\": [\"A1\", \"B1\", \"C1\", \"D1\", \"E1\", \"F1\", \"G1\", \"H1\", \"A2\", \"B2\", \"C2\", \"D2\", \"E2\", \"F2\", \"G2\", \"H2\", \"A3\", \"B3\", \"C3\", \"D3\", \"E3\", \"F3\", \"G3\", \"H3\", \"A4\", \"B4\", \"C4\", \"D4\", \"E4\", \"F4\", \"G4\", \"H4\", \"A5\", \"B5\", \"C5\", \"D5\", \"E5\", \"F5\", \"G5\", \"H5\", \"A6\", \"B6\", \"C6\", \"D6\", \"E6\", \"F6\", \"G6\", \"H6\", \"A7\", \"B7\", \"C7\", \"D7\", \"E7\", \"F7\", \"G7\", \"H7\", \"A8\", \"B8\", \"C8\", \"D8\", \"E8\", \"F8\", \"G8\", \"H8\", \"A9\", \"B9\", \"C9\", \"D9\", \"E9\", \"F9\", \"G9\", \"H9\", \"A10\", \"B10\", \"C10\", \"D10\", \"E10\", \"F10\", \"G10\", \"H10\", \"A11\", \"B11\", \"C11\", \"D11\", \"E11\", \"F11\", \"G11\", \"H11\", \"A12\", \"B12\", \"C12\", \"D12\", \"E12\", \"F12\", \"G12\", \"H12\"]}}, \"name\": null}'\n",
      "ERROR:/Library/Frameworks/Python.framework/Versions/3.10/lib/python3.10/site-packages/labop/execution_engine_utils.py:Could Not Process http://bbn.com/synbio/test_execution/CallBehaviorExecution7: '{\"dims\": [\"aliquot\"], \"attrs\": {}, \"data\": [true, false, false, false, false, false, false, false, false, false, false, false, false, false, false, false, false, false, false, false, false, false, false, false, false, false, false, false, false, false, false, false, false, false, false, false, false, false, false, false, false, false, false, false, false, false, false, false, false, false, false, false, false, false, false, false, false, false, false, false, false, false, false, false, false, false, false, false, false, false, false, false, false, false, false, false, false, false, false, false, false, false, false, false, false, false, false, false, false, false, false, false, false, false, false, false], \"coords\": {\"aliquot\": {\"dims\": [\"aliquot\"], \"attrs\": {}, \"data\": [\"A1\", \"B1\", \"C1\", \"D1\", \"E1\", \"F1\", \"G1\", \"H1\", \"A2\", \"B2\", \"C2\", \"D2\", \"E2\", \"F2\", \"G2\", \"H2\", \"A3\", \"B3\", \"C3\", \"D3\", \"E3\", \"F3\", \"G3\", \"H3\", \"A4\", \"B4\", \"C4\", \"D4\", \"E4\", \"F4\", \"G4\", \"H4\", \"A5\", \"B5\", \"C5\", \"D5\", \"E5\", \"F5\", \"G5\", \"H5\", \"A6\", \"B6\", \"C6\", \"D6\", \"E6\", \"F6\", \"G6\", \"H6\", \"A7\", \"B7\", \"C7\", \"D7\", \"E7\", \"F7\", \"G7\", \"H7\", \"A8\", \"B8\", \"C8\", \"D8\", \"E8\", \"F8\", \"G8\", \"H8\", \"A9\", \"B9\", \"C9\", \"D9\", \"E9\", \"F9\", \"G9\", \"H9\", \"A10\", \"B10\", \"C10\", \"D10\", \"E10\", \"F10\", \"G10\", \"H10\", \"A11\", \"B11\", \"C11\", \"D11\", \"E11\", \"F11\", \"G11\", \"H11\", \"A12\", \"B12\", \"C12\", \"D12\", \"E12\", \"F12\", \"G12\", \"H12\"]}}, \"name\": null}'\n"
     ]
    }
   ],
   "source": [
    "# Execute the protocol\n",
    "# An OT2 script and a markdown script will be generated in the output directory\n",
    "filename = os.path.join(out_dir, \"ot2_demo_labop\")\n",
    "automated_script = filename + \".py\"\n",
    "agent = sbol3.Agent(\"ot2_machine\", name=\"OT2 Machine\")\n",
    "ee = ExecutionEngine(specializations=[MarkdownSpecialization(filename+\".md\")])\n",
    "execution = ee.execute(protocol, agent, id=\"test_execution\")"
   ]
  },
  {
   "cell_type": "code",
   "execution_count": null,
   "metadata": {},
   "outputs": [
    {
     "name": "stdout",
     "output_type": "stream",
     "text": [
      "# OT2 Demo\n",
      "\n",
      "IWBDA 2022 Example Using Opentrons OT2\n",
      "\n",
      "\n",
      "## Protocol Materials:\n",
      "* Corning 96 Well Plate 360 uL Flat\n",
      "\n",
      "\n",
      "## Protocol Steps:\n",
      "1. Obtain a Corning 96 Well Plate 360 uL Flat to contain `calibration plate`\n",
      "2. Import data for  into provided Excel file.\n",
      "---\n",
      "Timestamp: 2023-01-29 23:11:29.013446\n"
     ]
    }
   ],
   "source": [
    "print(execution.markdown)"
   ]
  },
  {
   "cell_type": "code",
   "execution_count": null,
   "metadata": {},
   "outputs": [
    {
     "ename": "AttributeError",
     "evalue": "'MarkdownSpecialization' object has no attribute 'markdown'",
     "output_type": "error",
     "traceback": [
      "\u001b[0;31m---------------------------------------------------------------------------\u001b[0m",
      "\u001b[0;31mAttributeError\u001b[0m                            Traceback (most recent call last)",
      "Cell \u001b[0;32mIn[33], line 2\u001b[0m\n\u001b[1;32m      1\u001b[0m \u001b[39m# Print operator instructions\u001b[39;00m\n\u001b[0;32m----> 2\u001b[0m Markdown(ee\u001b[39m.\u001b[39;49mspecializations[\u001b[39m0\u001b[39;49m]\u001b[39m.\u001b[39;49mmarkdown)\n",
      "\u001b[0;31mAttributeError\u001b[0m: 'MarkdownSpecialization' object has no attribute 'markdown'"
     ]
    }
   ],
   "source": [
    "# Print operator instructions\n",
    "Markdown(ee.specializations[0].markdown)"
   ]
  },
  {
   "cell_type": "code",
   "execution_count": null,
   "metadata": {},
   "outputs": [
    {
     "ename": "AttributeError",
     "evalue": "'MarkdownSpecialization' object has no attribute 'script'",
     "output_type": "error",
     "traceback": [
      "\u001b[0;31m---------------------------------------------------------------------------\u001b[0m",
      "\u001b[0;31mAttributeError\u001b[0m                            Traceback (most recent call last)",
      "Cell \u001b[0;32mIn[24], line 2\u001b[0m\n\u001b[1;32m      1\u001b[0m \u001b[39m# Print OT2 script\u001b[39;00m\n\u001b[0;32m----> 2\u001b[0m \u001b[39mprint\u001b[39m(ee\u001b[39m.\u001b[39;49mspecializations[\u001b[39m0\u001b[39;49m]\u001b[39m.\u001b[39;49mscript)\n",
      "\u001b[0;31mAttributeError\u001b[0m: 'MarkdownSpecialization' object has no attribute 'script'"
     ]
    }
   ],
   "source": [
    "# Print OT2 script\n",
    "print(ee.specializations[0].script)"
   ]
  }
 ],
 "metadata": {
  "kernelspec": {
   "display_name": "Python 3",
   "language": "python",
   "name": "python3"
  },
  "language_info": {
   "codemirror_mode": {
    "name": "ipython",
    "version": 3
   },
   "file_extension": ".py",
   "mimetype": "text/x-python",
   "name": "python",
   "nbconvert_exporter": "python",
   "pygments_lexer": "ipython3",
   "version": "3.10.0"
  },
  "orig_nbformat": 4,
  "vscode": {
   "interpreter": {
    "hash": "aee8b7b246df8f9039afb4144a1f6fd8d2ca17a180786b69acc140d282b71a49"
   }
  }
 },
 "nbformat": 4,
 "nbformat_minor": 2
}
